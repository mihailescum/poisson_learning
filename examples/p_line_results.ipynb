{
 "cells": [
  {
   "cell_type": "code",
   "execution_count": 27,
   "metadata": {},
   "outputs": [
    {
     "name": "stdout",
     "output_type": "stream",
     "text": [
      "The autoreload extension is already loaded. To reload it, use:\n",
      "  %reload_ext autoreload\n"
     ]
    }
   ],
   "source": [
    "import numpy as np\n",
    "import pandas as pd\n",
    "from scipy.spatial.distance import cdist\n",
    "\n",
    "import matplotlib.pyplot as plt\n",
    "fig_width = (21-5)/2.54\n",
    "import seaborn as sns\n",
    "sns.set_context(\"paper\")\n",
    "\n",
    "import poissonlearning as pl\n",
    "\n",
    "import storage\n",
    "import plotting\n",
    "\n",
    "plotting.setup(latex=True)\n",
    "\n",
    "%load_ext autoreload\n",
    "%autoreload 2\n",
    "\n",
    "%matplotlib qt"
   ]
  },
  {
   "cell_type": "code",
   "execution_count": 20,
   "metadata": {},
   "outputs": [],
   "source": [
    "SAVE_PLOTS = True\n",
    "NUM_PLOTTING_POINTS = 1000"
   ]
  },
  {
   "cell_type": "markdown",
   "metadata": {},
   "source": [
    "### Convenience functions"
   ]
  },
  {
   "cell_type": "code",
   "execution_count": 21,
   "metadata": {},
   "outputs": [],
   "source": [
    "def compute_errors(experiments):\n",
    "    for experiment in experiments:\n",
    "        solution = experiment[\"solution\"]\n",
    "\n",
    "        reference_experiments = list(\n",
    "            filter(\n",
    "                lambda x: \n",
    "                    x[\"seed\"] == experiment[\"seed\"] \n",
    "                    and x[\"n\"] == experiment[\"n\"]\n",
    "                    and x[\"bump\"] == experiment[\"bump\"]\n",
    "                    and x[\"eps\"] == experiment[\"eps\"],\n",
    "                experiments\n",
    "            )\n",
    "        )\n",
    "        reference = max(reference_experiments, key=lambda x: x[\"p\"])[\"solution\"]\n",
    "\n",
    "        error_L1 = np.abs(solution - reference).mean()\n",
    "        experiment[\"error_L1\"] = error_L1"
   ]
  },
  {
   "cell_type": "code",
   "execution_count": 22,
   "metadata": {},
   "outputs": [],
   "source": [
    "experiments = storage.load_results(name=\"p_line\", folder=\"../results\")\n",
    "compute_errors(experiments)"
   ]
  },
  {
   "cell_type": "markdown",
   "metadata": {},
   "source": [
    "### Visualisation for various p"
   ]
  },
  {
   "cell_type": "code",
   "execution_count": 28,
   "metadata": {},
   "outputs": [],
   "source": [
    "selected_experiments = list(\n",
    "    filter(\n",
    "        lambda x: \n",
    "            x[\"seed\"] == 0 \n",
    "            and x[\"n\"] == 5000,\n",
    "        experiments\n",
    "    )\n",
    ")\n",
    "selected_experiments.sort(key=lambda x: x[\"p\"])"
   ]
  },
  {
   "cell_type": "code",
   "execution_count": 34,
   "metadata": {},
   "outputs": [],
   "source": [
    "sample_size = NUM_PLOTTING_POINTS\n",
    "\n",
    "fig, ax_results = plt.subplots(1, 1, figsize=(fig_width, 0.45*fig_width))\n",
    "ax_results.set_prop_cycle(plotting.line_cycler)\n",
    "\n",
    "for i, ex in enumerate(selected_experiments, start=0):\n",
    "    sample = ex[\"solution\"].sample(sample_size, random_state=1).sort_index()\n",
    "    ax_results.plot(sample, label=f\"p={ex['p']}\")\n",
    "\n",
    "ax_results.legend(ncol=2)\n",
    "ax_results.grid(linestyle=\"dashed\")\n",
    "ax_results.set_ylabel(r\"$u_{n}^{(p)}$\")\n",
    "ax_results.set_ylim(-1.2, 1.2)\n",
    "\n",
    "fig.tight_layout()\n",
    "\n",
    "if SAVE_PLOTS:\n",
    "    fig.savefig(f\"../plots/p_line_convergence.pdf\", bbox_inches=\"tight\")"
   ]
  },
  {
   "cell_type": "markdown",
   "metadata": {},
   "source": [
    "### Actual continuum solutions"
   ]
  },
  {
   "cell_type": "code",
   "execution_count": 25,
   "metadata": {},
   "outputs": [],
   "source": [
    "def u_p(x, p, rho):\n",
    "    return ((p-1)/p) * (rho ** (1/(p-1))) * np.sign(x) * (1 - ((1 - np.abs(x)) ** (p/(p-1))) )"
   ]
  },
  {
   "cell_type": "code",
   "execution_count": 35,
   "metadata": {},
   "outputs": [],
   "source": [
    "sample_size = NUM_PLOTTING_POINTS\n",
    "\n",
    "fig, ax_results = plt.subplots(1, 1, figsize=(fig_width, 0.45*fig_width))\n",
    "ax_results.set_prop_cycle(plotting.line_cycler)\n",
    "\n",
    "for i, ex in enumerate(selected_experiments, start=0):\n",
    "    sample = ex[\"solution\"].sample(sample_size, random_state=1).sort_index()\n",
    "    y = u_p(sample.index, ex[\"p\"], 0.5)\n",
    "    ax_results.plot(sample.index, y, label=f\"p={ex['p']}\")\n",
    "\n",
    "ax_results.legend(ncol=2)\n",
    "ax_results.grid(linestyle=\"dashed\")\n",
    "ax_results.set_ylabel(r\"$u^{(p)}$\")\n",
    "ax_results.set_ylim(-1.2, 1.2)\n",
    "\n",
    "fig.tight_layout()\n",
    "\n",
    "if SAVE_PLOTS:\n",
    "    fig.savefig(f\"../plots/p_line_convergence_continuum.pdf\", bbox_inches=\"tight\")"
   ]
  },
  {
   "cell_type": "code",
   "execution_count": null,
   "metadata": {},
   "outputs": [],
   "source": []
  }
 ],
 "metadata": {
  "kernelspec": {
   "display_name": "Python 3.9.7 ('thesis')",
   "language": "python",
   "name": "python3"
  },
  "language_info": {
   "codemirror_mode": {
    "name": "ipython",
    "version": 3
   },
   "file_extension": ".py",
   "mimetype": "text/x-python",
   "name": "python",
   "nbconvert_exporter": "python",
   "pygments_lexer": "ipython3",
   "version": "3.9.7"
  },
  "orig_nbformat": 4,
  "vscode": {
   "interpreter": {
    "hash": "0309fd4d8093f233da82b79409fbfbf31049f6fad33a75d9435ce0e16e3f1f61"
   }
  }
 },
 "nbformat": 4,
 "nbformat_minor": 2
}
