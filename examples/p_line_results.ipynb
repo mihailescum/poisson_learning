{
 "cells": [
  {
   "cell_type": "code",
   "execution_count": 1,
   "metadata": {},
   "outputs": [],
   "source": [
    "import numpy as np\n",
    "import pandas as pd\n",
    "from scipy.spatial.distance import cdist\n",
    "\n",
    "import matplotlib.pyplot as plt\n",
    "plt.rc(\"figure\", figsize=(10,5))\n",
    "import seaborn as sns\n",
    "sns.set_context(\"paper\")\n",
    "\n",
    "import poissonlearning as pl\n",
    "\n",
    "import storage\n",
    "import plotting\n",
    "\n",
    "plotting.setup(latex=True)\n",
    "\n",
    "%load_ext autoreload\n",
    "%autoreload 2\n",
    "\n",
    "%matplotlib qt"
   ]
  },
  {
   "cell_type": "code",
   "execution_count": 2,
   "metadata": {},
   "outputs": [],
   "source": [
    "SAVE_PLOTS = True\n",
    "NUM_PLOTTING_POINTS = 1000"
   ]
  },
  {
   "cell_type": "markdown",
   "metadata": {},
   "source": [
    "### Convenience functions"
   ]
  },
  {
   "cell_type": "code",
   "execution_count": 3,
   "metadata": {},
   "outputs": [],
   "source": [
    "def compute_errors(experiments):\n",
    "    for experiment in experiments:\n",
    "        solution = experiment[\"solution\"]\n",
    "\n",
    "        reference_experiments = list(\n",
    "            filter(\n",
    "                lambda x: \n",
    "                    x[\"seed\"] == experiment[\"seed\"] \n",
    "                    and x[\"n\"] == experiment[\"n\"]\n",
    "                    and x[\"bump\"] == experiment[\"bump\"]\n",
    "                    and x[\"eps\"] == experiment[\"eps\"],\n",
    "                experiments\n",
    "            )\n",
    "        )\n",
    "        reference = max(reference_experiments, key=lambda x: x[\"p\"])[\"solution\"]\n",
    "\n",
    "        error_L1 = np.abs(solution - reference).mean()\n",
    "        experiment[\"error_L1\"] = error_L1"
   ]
  },
  {
   "cell_type": "code",
   "execution_count": 4,
   "metadata": {},
   "outputs": [],
   "source": [
    "experiments = storage.load_results(name=\"p_line\", folder=\"../results\")\n",
    "compute_errors(experiments)"
   ]
  },
  {
   "cell_type": "markdown",
   "metadata": {},
   "source": [
    "### Visualisation for various p"
   ]
  },
  {
   "cell_type": "code",
   "execution_count": 5,
   "metadata": {},
   "outputs": [],
   "source": [
    "selected_experiments = list(\n",
    "    filter(\n",
    "        lambda x: \n",
    "            x[\"seed\"] == 0 \n",
    "            and x[\"n\"] == 5000,\n",
    "        experiments\n",
    "    )\n",
    ")\n",
    "selected_experiments.sort(key=lambda x: x[\"p\"])"
   ]
  },
  {
   "cell_type": "code",
   "execution_count": 6,
   "metadata": {},
   "outputs": [],
   "source": [
    "sample_size = NUM_PLOTTING_POINTS\n",
    "\n",
    "fig_results, ax_results = plt.subplots(1, 1, figsize=(10,4))\n",
    "colors = plotting.get_plot_colors(n=len(selected_experiments))\n",
    "\n",
    "for i, ex in enumerate(selected_experiments, start=0):\n",
    "    sample = ex[\"solution\"].sample(sample_size, random_state=1).sort_index()\n",
    "    ax_results.plot(sample, label=f\"p={ex['p']}; n={ex['n']}\", c=colors[i])\n",
    "\n",
    "ax_results.legend()\n",
    "ax_results.grid(linestyle=\"dashed\")\n",
    "fig_results.tight_layout()"
   ]
  },
  {
   "cell_type": "markdown",
   "metadata": {},
   "source": [
    "### Plot of error to largest p"
   ]
  },
  {
   "cell_type": "code",
   "execution_count": 79,
   "metadata": {},
   "outputs": [
    {
     "ename": "ValueError",
     "evalue": "max() arg is an empty sequence",
     "output_type": "error",
     "traceback": [
      "\u001b[0;31m---------------------------------------------------------------------------\u001b[0m",
      "\u001b[0;31mValueError\u001b[0m                                Traceback (most recent call last)",
      "\u001b[0;32m/tmp/ipykernel_11172/4149344570.py\u001b[0m in \u001b[0;36m<module>\u001b[0;34m\u001b[0m\n\u001b[1;32m     14\u001b[0m \u001b[0mp_error\u001b[0m \u001b[0;34m=\u001b[0m \u001b[0mlist\u001b[0m\u001b[0;34m(\u001b[0m\u001b[0mset\u001b[0m\u001b[0;34m(\u001b[0m\u001b[0;34m[\u001b[0m\u001b[0me\u001b[0m\u001b[0;34m[\u001b[0m\u001b[0;34m\"p\"\u001b[0m\u001b[0;34m]\u001b[0m \u001b[0;32mfor\u001b[0m \u001b[0me\u001b[0m \u001b[0;32min\u001b[0m \u001b[0mlist\u001b[0m\u001b[0;34m(\u001b[0m\u001b[0mselected_experiments\u001b[0m\u001b[0;34m.\u001b[0m\u001b[0mvalues\u001b[0m\u001b[0;34m(\u001b[0m\u001b[0;34m)\u001b[0m\u001b[0;34m)\u001b[0m\u001b[0;34m[\u001b[0m\u001b[0;36m0\u001b[0m\u001b[0;34m]\u001b[0m\u001b[0;34m]\u001b[0m\u001b[0;34m)\u001b[0m\u001b[0;34m)\u001b[0m\u001b[0;34m\u001b[0m\u001b[0;34m\u001b[0m\u001b[0m\n\u001b[1;32m     15\u001b[0m \u001b[0mp_error\u001b[0m \u001b[0;34m=\u001b[0m \u001b[0msorted\u001b[0m\u001b[0;34m(\u001b[0m\u001b[0mp_error\u001b[0m\u001b[0;34m)\u001b[0m\u001b[0;34m\u001b[0m\u001b[0;34m\u001b[0m\u001b[0m\n\u001b[0;32m---> 16\u001b[0;31m \u001b[0mp_max\u001b[0m \u001b[0;34m=\u001b[0m \u001b[0mmax\u001b[0m\u001b[0;34m(\u001b[0m\u001b[0mp_error\u001b[0m\u001b[0;34m)\u001b[0m\u001b[0;34m\u001b[0m\u001b[0;34m\u001b[0m\u001b[0m\n\u001b[0m\u001b[1;32m     17\u001b[0m \u001b[0merror\u001b[0m \u001b[0;34m=\u001b[0m \u001b[0;34m{\u001b[0m\u001b[0mbump\u001b[0m\u001b[0;34m:\u001b[0m \u001b[0;34m{\u001b[0m\u001b[0;34m}\u001b[0m \u001b[0;32mfor\u001b[0m \u001b[0mbump\u001b[0m \u001b[0;32min\u001b[0m \u001b[0mselected_experiments\u001b[0m\u001b[0;34m.\u001b[0m\u001b[0mkeys\u001b[0m\u001b[0;34m(\u001b[0m\u001b[0;34m)\u001b[0m\u001b[0;34m}\u001b[0m\u001b[0;34m\u001b[0m\u001b[0;34m\u001b[0m\u001b[0m\n\u001b[1;32m     18\u001b[0m \u001b[0;32mfor\u001b[0m \u001b[0mbump\u001b[0m\u001b[0;34m,\u001b[0m \u001b[0mexperiments_with_bump\u001b[0m \u001b[0;32min\u001b[0m \u001b[0mselected_experiments\u001b[0m\u001b[0;34m.\u001b[0m\u001b[0mitems\u001b[0m\u001b[0;34m(\u001b[0m\u001b[0;34m)\u001b[0m\u001b[0;34m:\u001b[0m\u001b[0;34m\u001b[0m\u001b[0;34m\u001b[0m\u001b[0m\n",
      "\u001b[0;31mValueError\u001b[0m: max() arg is an empty sequence"
     ]
    }
   ],
   "source": [
    "n = 30000\n",
    "selected_experiments = {\n",
    "    n : list(\n",
    "        filter(\n",
    "            lambda x: \n",
    "                x[\"n\"] == n\n",
    "                and x[\"bump\"] == \"dirac\",\n",
    "            experiments\n",
    "        )\n",
    "    )\n",
    "    for n in [10000, 20000, 30000]\n",
    "}\n",
    "\n",
    "p_error = list(set([e[\"p\"] for e in list(selected_experiments.values())[0]]))\n",
    "p_error = sorted(p_error)\n",
    "p_max = max(p_error)\n",
    "error = {bump: {} for bump in selected_experiments.keys()}\n",
    "for bump, experiments_with_bump in selected_experiments.items():\n",
    "    for p in p_error:\n",
    "        if np.isclose(p, p_max):\n",
    "            continue\n",
    "\n",
    "        ex = list(filter(lambda x: np.isclose(x[\"p\"], p), experiments_with_bump))\n",
    "        error[bump][p] = {}\n",
    "        error[bump][p][\"mean\"] = np.mean([e[\"error_L1\"] for e in ex])\n",
    "        error[bump][p][\"max\"] = np.max([e[\"error_L1\"] for e in ex])\n",
    "        error[bump][p][\"min\"] = np.min([e[\"error_L1\"] for e in ex])"
   ]
  },
  {
   "cell_type": "code",
   "execution_count": null,
   "metadata": {},
   "outputs": [],
   "source": [
    "fig, ax = plt.subplots(1, 1)\n",
    "\n",
    "colors = plotting.get_plot_colors(len(selected_experiments))\n",
    "for i, (bump, e) in enumerate(error.items()):\n",
    "    plotting.error_plot({bump: e}, ax, c=colors[i])\n",
    "\n",
    "    ax.legend()\n",
    "    ax.set_xlabel(fr\"$p$\")\n",
    "    ax.set_ylabel(r\"$\\lVert u^p - u^{100} \\rVert_1$\")\n",
    "\n",
    "if SAVE_PLOTS:\n",
    "    fig.savefig(f\"../plots/p_one_circle_error_largest_p.pdf\", bbox_inches=\"tight\")"
   ]
  },
  {
   "cell_type": "code",
   "execution_count": null,
   "metadata": {},
   "outputs": [],
   "source": []
  }
 ],
 "metadata": {
  "kernelspec": {
   "display_name": "Python 3.9.7 ('thesis')",
   "language": "python",
   "name": "python3"
  },
  "language_info": {
   "codemirror_mode": {
    "name": "ipython",
    "version": 3
   },
   "file_extension": ".py",
   "mimetype": "text/x-python",
   "name": "python",
   "nbconvert_exporter": "python",
   "pygments_lexer": "ipython3",
   "version": "3.9.7"
  },
  "orig_nbformat": 4,
  "vscode": {
   "interpreter": {
    "hash": "0309fd4d8093f233da82b79409fbfbf31049f6fad33a75d9435ce0e16e3f1f61"
   }
  }
 },
 "nbformat": 4,
 "nbformat_minor": 2
}
