{
 "cells": [
  {
   "cell_type": "code",
   "execution_count": 8,
   "metadata": {},
   "outputs": [
    {
     "name": "stdout",
     "output_type": "stream",
     "text": [
      "The autoreload extension is already loaded. To reload it, use:\n",
      "  %reload_ext autoreload\n"
     ]
    }
   ],
   "source": [
    "import numpy as np\n",
    "import pandas as pd\n",
    "\n",
    "import poissonlearning as pl\n",
    "import graphlearning as gl\n",
    "\n",
    "import storage\n",
    "\n",
    "%load_ext autoreload\n",
    "%autoreload 2"
   ]
  },
  {
   "cell_type": "code",
   "execution_count": 53,
   "metadata": {},
   "outputs": [],
   "source": [
    "experiments = storage.load_results(name=\"mnist\", folder=\"../results\")"
   ]
  },
  {
   "cell_type": "code",
   "execution_count": 54,
   "metadata": {},
   "outputs": [
    {
     "name": "stderr",
     "output_type": "stream",
     "text": [
      "/tmp/ipykernel_30522/1103036512.py:5: DeprecationWarning: The default dtype for empty Series will be 'object' instead of 'float64' in a future version. Specify a dtype explicitly to silence this warning.\n",
      "  results_p = pd.Series(index=labels_per_class_all, name=p)\n"
     ]
    },
    {
     "data": {
      "text/html": [
       "<div>\n",
       "<style scoped>\n",
       "    .dataframe tbody tr th:only-of-type {\n",
       "        vertical-align: middle;\n",
       "    }\n",
       "\n",
       "    .dataframe tbody tr th {\n",
       "        vertical-align: top;\n",
       "    }\n",
       "\n",
       "    .dataframe thead th {\n",
       "        text-align: right;\n",
       "    }\n",
       "</style>\n",
       "<table border=\"1\" class=\"dataframe\">\n",
       "  <thead>\n",
       "    <tr style=\"text-align: right;\">\n",
       "      <th></th>\n",
       "      <th>2.0</th>\n",
       "      <th>3.0</th>\n",
       "    </tr>\n",
       "  </thead>\n",
       "  <tbody>\n",
       "    <tr>\n",
       "      <th>1</th>\n",
       "      <td>76.252505</td>\n",
       "      <td>NaN</td>\n",
       "    </tr>\n",
       "    <tr>\n",
       "      <th>5</th>\n",
       "      <td>92.787879</td>\n",
       "      <td>90.080808</td>\n",
       "    </tr>\n",
       "  </tbody>\n",
       "</table>\n",
       "</div>"
      ],
      "text/plain": [
       "         2.0        3.0\n",
       "1  76.252505        NaN\n",
       "5  92.787879  90.080808"
      ]
     },
     "execution_count": 54,
     "metadata": {},
     "output_type": "execute_result"
    }
   ],
   "source": [
    "p_all = list(set((ex[\"p\"] for ex in experiments)))\n",
    "results_table = pd.DataFrame()\n",
    "for p in p_all:\n",
    "    labels_per_class_all = list(set((ex[\"labels_per_class\"][0] for ex in experiments if np.isclose(ex[\"p\"], p))))\n",
    "    results_p = pd.Series(index=labels_per_class_all, name=p)\n",
    "    for num_labels in labels_per_class_all:\n",
    "        selected_experiments = list(\n",
    "            filter(\n",
    "                lambda x: \n",
    "                    np.isclose(x[\"p\"], p) \n",
    "                    and np.all(np.isclose(x[\"labels_per_class\"], num_labels)),\n",
    "                experiments\n",
    "            )\n",
    "        )\n",
    "        def _compute_accuracy(experiment):\n",
    "            prob = experiment[\"solution\"].drop(columns=[\"x\", \"y\", \"true_labels\"]).to_numpy()\n",
    "            scores = prob - np.min(prob)\n",
    "            scores = scores / np.max(scores)\n",
    "\n",
    "            # Check if scores are similarity or distance\n",
    "            pred_labels = np.argmax(scores, axis=1)\n",
    "            accuracy = gl.ssl.ssl_accuracy(experiment[\"solution\"][\"true_labels\"], pred_labels, sum(experiment[\"labels_per_class\"]))\n",
    "            return accuracy\n",
    "        accuracy = np.mean([_compute_accuracy(ex) for ex in selected_experiments])\n",
    "        results_p[num_labels] = accuracy\n",
    "\n",
    "    def _extend_results(results_table, new_entries):\n",
    "        new_index = np.union1d(results_table.index, new_entries.index)\n",
    "        results_table = results_table.reindex(new_index)\n",
    "        new_entries = new_entries.reindex(new_index)\n",
    "        results_table[new_entries.name] = new_entries\n",
    "        return results_table\n",
    "\n",
    "    results_table = _extend_results(results_table, results_p)\n",
    "results_table"
   ]
  },
  {
   "cell_type": "code",
   "execution_count": null,
   "metadata": {},
   "outputs": [],
   "source": []
  }
 ],
 "metadata": {
  "kernelspec": {
   "display_name": "Python 3.9.7 ('thesis')",
   "language": "python",
   "name": "python3"
  },
  "language_info": {
   "codemirror_mode": {
    "name": "ipython",
    "version": 3
   },
   "file_extension": ".py",
   "mimetype": "text/x-python",
   "name": "python",
   "nbconvert_exporter": "python",
   "pygments_lexer": "ipython3",
   "version": "3.9.7"
  },
  "orig_nbformat": 4,
  "vscode": {
   "interpreter": {
    "hash": "0309fd4d8093f233da82b79409fbfbf31049f6fad33a75d9435ce0e16e3f1f61"
   }
  }
 },
 "nbformat": 4,
 "nbformat_minor": 2
}
