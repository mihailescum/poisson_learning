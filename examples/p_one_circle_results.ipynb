{
 "cells": [
  {
   "cell_type": "code",
   "execution_count": 1,
   "metadata": {},
   "outputs": [],
   "source": [
    "import numpy as np\n",
    "import pandas as pd\n",
    "from scipy.spatial.distance import cdist\n",
    "\n",
    "import matplotlib.pyplot as plt\n",
    "plt.rc(\"figure\", figsize=(10,4))\n",
    "import seaborn as sns\n",
    "sns.set_context(\"paper\", font_scale=1.3)\n",
    "\n",
    "import poissonlearning as pl\n",
    "\n",
    "import storage\n",
    "import plotting\n",
    "\n",
    "plotting.setup(latex=True)\n",
    "\n",
    "%load_ext autoreload\n",
    "%autoreload 2\n",
    "\n",
    "%matplotlib qt\n",
    "sns.set_context(\"paper\", font_scale=1.3)"
   ]
  },
  {
   "cell_type": "code",
   "execution_count": 2,
   "metadata": {},
   "outputs": [],
   "source": [
    "SAVE_PLOTS = True\n",
    "NUM_PLOTTING_POINTS = 5000"
   ]
  },
  {
   "cell_type": "markdown",
   "metadata": {},
   "source": [
    "### Convenience functions"
   ]
  },
  {
   "cell_type": "code",
   "execution_count": 3,
   "metadata": {},
   "outputs": [],
   "source": [
    "def compute_errors(experiments):\n",
    "    for experiment in experiments:\n",
    "        solution = experiment[\"solution\"]\n",
    "        z = solution[\"z\"].to_numpy()\n",
    "\n",
    "        reference_experiments = list(\n",
    "            filter(\n",
    "                lambda x: \n",
    "                    x[\"seed\"] == experiment[\"seed\"] \n",
    "                    and x[\"n\"] == experiment[\"n\"]\n",
    "                    and x[\"bump\"] == experiment[\"bump\"]\n",
    "                    and x[\"eps\"] == experiment[\"eps\"],\n",
    "                experiments\n",
    "            )\n",
    "        )\n",
    "        reference = max(reference_experiments, key=lambda x: x[\"p\"])[\"solution\"]\n",
    "\n",
    "        error_L1 = np.abs(z - reference[\"z\"]).mean()\n",
    "        experiment[\"error_L1\"] = error_L1"
   ]
  },
  {
   "cell_type": "code",
   "execution_count": 4,
   "metadata": {},
   "outputs": [],
   "source": [
    "experiments = storage.load_results(name=\"p_one_circle\", folder=\"../results\")\n",
    "compute_errors(experiments)"
   ]
  },
  {
   "cell_type": "markdown",
   "metadata": {},
   "source": [
    "### Visualisation for various p"
   ]
  },
  {
   "cell_type": "code",
   "execution_count": 5,
   "metadata": {},
   "outputs": [],
   "source": [
    "selected_experiments = list(\n",
    "    filter(\n",
    "        lambda x: \n",
    "            x[\"seed\"] == 0 \n",
    "            and x[\"n\"] == 10000\n",
    "            and x[\"bump\"] == \"dirac\",\n",
    "        experiments\n",
    "    )\n",
    ")\n",
    "selected_experiments.sort(key=lambda x: x[\"p\"])"
   ]
  },
  {
   "cell_type": "code",
   "execution_count": 6,
   "metadata": {},
   "outputs": [],
   "source": [
    "sample_size = NUM_PLOTTING_POINTS\n",
    "\n",
    "fig_results = plt.figure()\n",
    "for i, ex in enumerate(selected_experiments, start=1):\n",
    "    ax_solution = fig_results.add_subplot(\n",
    "        4,  # int(np.floor(np.sqrt(len(results[n])))),\n",
    "        6,  # int(np.floor(np.sqrt(len(results[n])))),\n",
    "        i,\n",
    "        projection=\"3d\",\n",
    "    )\n",
    "\n",
    "    sample = ex[\"solution\"].sample(sample_size, random_state=1)\n",
    "    xy = sample[[\"x\", \"y\"]].to_numpy()\n",
    "\n",
    "    dist = cdist(xy, xy, metric=\"euclidean\",)\n",
    "    plotting.plot_graph_function_with_triangulation(\n",
    "        ax_solution, xy, sample[\"z\"].to_numpy(), dist=dist, max_dist=0.1,\n",
    "    )\n",
    "    ax_solution.set_title(f\"p={ex['p']}; n={ex['n']}\")\n",
    "fig_results.tight_layout()"
   ]
  },
  {
   "cell_type": "markdown",
   "metadata": {},
   "source": [
    "### Plot of error to largest p"
   ]
  },
  {
   "cell_type": "code",
   "execution_count": 7,
   "metadata": {},
   "outputs": [],
   "source": [
    "n = 30000\n",
    "selected_experiments = {\n",
    "    n : list(\n",
    "        filter(\n",
    "            lambda x: \n",
    "                x[\"n\"] == n\n",
    "                and x[\"bump\"] == \"dirac\",\n",
    "            experiments\n",
    "        )\n",
    "    )\n",
    "    for n in [10000, 20000, 30000]\n",
    "}\n",
    "\n",
    "p_error = list(set([e[\"p\"] for e in list(selected_experiments.values())[0]]))\n",
    "p_error = sorted(p_error)\n",
    "p_max = max(p_error)\n",
    "error = {bump: {} for bump in selected_experiments.keys()}\n",
    "for bump, experiments_with_bump in selected_experiments.items():\n",
    "    for p in p_error:\n",
    "        if np.isclose(p, p_max):\n",
    "            continue\n",
    "\n",
    "        ex = list(filter(lambda x: np.isclose(x[\"p\"], p), experiments_with_bump))\n",
    "        error[bump][p] = {}\n",
    "        error[bump][p][\"mean\"] = np.mean([e[\"error_L1\"] for e in ex])\n",
    "        error[bump][p][\"max\"] = np.max([e[\"error_L1\"] for e in ex])\n",
    "        error[bump][p][\"min\"] = np.min([e[\"error_L1\"] for e in ex])"
   ]
  },
  {
   "cell_type": "code",
   "execution_count": 11,
   "metadata": {},
   "outputs": [],
   "source": [
    "plt.rc(\"figure\", figsize=(10,4))\n",
    "sns.set_context(\"paper\", font_scale=1.3)\n",
    "fig, ax = plt.subplots(1, 1)\n",
    "\n",
    "colors = plotting.get_plot_colors(len(selected_experiments))\n",
    "for i, (bump, e) in enumerate(error.items()):\n",
    "    plotting.error_plot({bump: e}, ax, c=colors[i])\n",
    "\n",
    "ax.legend()\n",
    "ax.set_xlabel(fr\"$p$\")\n",
    "ax.set_ylabel(r\"$\\lVert u^p - u^{100} \\rVert_1$\")\n",
    "ax.set_ylim(0.0, None)\n",
    "\n",
    "fig.tight_layout()\n",
    "\n",
    "if SAVE_PLOTS:\n",
    "    fig.savefig(f\"../plots/p_one_circle_error_largest_p.pdf\", bbox_inches=\"tight\")"
   ]
  },
  {
   "cell_type": "code",
   "execution_count": null,
   "metadata": {},
   "outputs": [],
   "source": []
  }
 ],
 "metadata": {
  "kernelspec": {
   "display_name": "Python 3.9.7 ('thesis')",
   "language": "python",
   "name": "python3"
  },
  "language_info": {
   "codemirror_mode": {
    "name": "ipython",
    "version": 3
   },
   "file_extension": ".py",
   "mimetype": "text/x-python",
   "name": "python",
   "nbconvert_exporter": "python",
   "pygments_lexer": "ipython3",
   "version": "3.9.7"
  },
  "orig_nbformat": 4,
  "vscode": {
   "interpreter": {
    "hash": "0309fd4d8093f233da82b79409fbfbf31049f6fad33a75d9435ce0e16e3f1f61"
   }
  }
 },
 "nbformat": 4,
 "nbformat_minor": 2
}
