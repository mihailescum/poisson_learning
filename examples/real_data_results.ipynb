{
 "cells": [
  {
   "cell_type": "code",
   "execution_count": 3,
   "metadata": {},
   "outputs": [
    {
     "name": "stdout",
     "output_type": "stream",
     "text": [
      "The autoreload extension is already loaded. To reload it, use:\n",
      "  %reload_ext autoreload\n"
     ]
    }
   ],
   "source": [
    "import numpy as np\n",
    "import pandas as pd\n",
    "\n",
    "import poissonlearning as pl\n",
    "import graphlearning as gl\n",
    "\n",
    "import storage\n",
    "\n",
    "%load_ext autoreload\n",
    "%autoreload 2"
   ]
  },
  {
   "cell_type": "code",
   "execution_count": 9,
   "metadata": {},
   "outputs": [],
   "source": [
    "dataset = \"fashionmnist\"\n",
    "dataset_metric = \"vae\"\n",
    "experiments = storage.load_results(name=\"real_data_1\", folder=\"../results\")"
   ]
  },
  {
   "cell_type": "code",
   "execution_count": 10,
   "metadata": {},
   "outputs": [
    {
     "name": "stdout",
     "output_type": "stream",
     "text": [
      "Num experiments:  4\n",
      "Num experiments:  4\n",
      "Num experiments:  4\n",
      "Num experiments:  4\n",
      "Num experiments:  4\n",
      "Num experiments:  4\n"
     ]
    },
    {
     "data": {
      "text/html": [
       "<div>\n",
       "<style scoped>\n",
       "    .dataframe tbody tr th:only-of-type {\n",
       "        vertical-align: middle;\n",
       "    }\n",
       "\n",
       "    .dataframe tbody tr th {\n",
       "        vertical-align: top;\n",
       "    }\n",
       "\n",
       "    .dataframe thead th {\n",
       "        text-align: right;\n",
       "    }\n",
       "</style>\n",
       "<table border=\"1\" class=\"dataframe\">\n",
       "  <thead>\n",
       "    <tr style=\"text-align: right;\">\n",
       "      <th></th>\n",
       "      <th>2.0</th>\n",
       "      <th>3.0</th>\n",
       "      <th>4.0</th>\n",
       "      <th>5.0</th>\n",
       "      <th>6.0</th>\n",
       "      <th>8.0</th>\n",
       "    </tr>\n",
       "  </thead>\n",
       "  <tbody>\n",
       "    <tr>\n",
       "      <th>1</th>\n",
       "      <td>59.780 (1.06)</td>\n",
       "      <td>57.365 (1.71)</td>\n",
       "      <td>55.040 (2.21)</td>\n",
       "      <td>53.537 (2.58)</td>\n",
       "      <td>52.475 (2.82)</td>\n",
       "      <td>51.323 (3.19)</td>\n",
       "    </tr>\n",
       "    <tr>\n",
       "      <th>2</th>\n",
       "      <td>65.733 (2.64)</td>\n",
       "      <td>63.303 (2.26)</td>\n",
       "      <td>61.707 (1.87)</td>\n",
       "      <td>60.633 (1.92)</td>\n",
       "      <td>59.759 (1.91)</td>\n",
       "      <td>58.956 (1.91)</td>\n",
       "    </tr>\n",
       "    <tr>\n",
       "      <th>5</th>\n",
       "      <td>70.859 (4.11)</td>\n",
       "      <td>69.343 (4.47)</td>\n",
       "      <td>67.889 (4.25)</td>\n",
       "      <td>66.798 (3.73)</td>\n",
       "      <td>66.192 (3.48)</td>\n",
       "      <td>64.909 (3.21)</td>\n",
       "    </tr>\n",
       "    <tr>\n",
       "      <th>10</th>\n",
       "      <td>75.643 (0.21)</td>\n",
       "      <td>74.592 (0.35)</td>\n",
       "      <td>73.704 (0.19)</td>\n",
       "      <td>72.755 (0.41)</td>\n",
       "      <td>72.163 (0.41)</td>\n",
       "      <td>71.378 (0.72)</td>\n",
       "    </tr>\n",
       "  </tbody>\n",
       "</table>\n",
       "</div>"
      ],
      "text/plain": [
       "              2.0            3.0            4.0            5.0            6.0  \\\n",
       "1   59.780 (1.06)  57.365 (1.71)  55.040 (2.21)  53.537 (2.58)  52.475 (2.82)   \n",
       "2   65.733 (2.64)  63.303 (2.26)  61.707 (1.87)  60.633 (1.92)  59.759 (1.91)   \n",
       "5   70.859 (4.11)  69.343 (4.47)  67.889 (4.25)  66.798 (3.73)  66.192 (3.48)   \n",
       "10  75.643 (0.21)  74.592 (0.35)  73.704 (0.19)  72.755 (0.41)  72.163 (0.41)   \n",
       "\n",
       "              8.0  \n",
       "1   51.323 (3.19)  \n",
       "2   58.956 (1.91)  \n",
       "5   64.909 (3.21)  \n",
       "10  71.378 (0.72)  "
      ]
     },
     "execution_count": 10,
     "metadata": {},
     "output_type": "execute_result"
    }
   ],
   "source": [
    "p_all = list(set((ex[\"p\"] for ex in experiments if ex[\"dataset\"] == dataset and ex[\"dataset_metric\"] == dataset_metric)))\n",
    "results_table = pd.DataFrame()\n",
    "for p in p_all:\n",
    "    labels_per_class_all = list(set((ex[\"labels_per_class\"] for ex in experiments if np.isclose(ex[\"p\"], p) and ex[\"dataset\"] == dataset and ex[\"dataset_metric\"] == dataset_metric)))\n",
    "    print(\"Num experiments: \", len(labels_per_class_all))\n",
    "    results_p = pd.Series(index=labels_per_class_all, name=p, dtype=\"object\")\n",
    "    for num_labels in labels_per_class_all:\n",
    "        selected_experiments = list(\n",
    "            filter(\n",
    "                lambda x: \n",
    "                    np.isclose(x[\"p\"], p) \n",
    "                    and np.all(np.isclose(x[\"labels_per_class\"], num_labels))\n",
    "                    and x[\"dataset\"] == dataset,\n",
    "                experiments\n",
    "            )\n",
    "        )\n",
    "        def _compute_accuracy(experiment):\n",
    "            prob = experiment[\"solution\"].drop(columns=[\"x\", \"y\", \"true_labels\"]).to_numpy()\n",
    "            scores = prob - np.min(prob)\n",
    "            scores = scores / np.max(scores)\n",
    "\n",
    "            # Check if scores are similarity or distance\n",
    "            pred_labels = np.argmax(scores, axis=1)\n",
    "            accuracy = gl.ssl.ssl_accuracy(experiment[\"solution\"][\"true_labels\"], pred_labels, experiment[\"labels_per_class\"] * 10)\n",
    "            return accuracy\n",
    "        accuracy = [_compute_accuracy(ex) for ex in selected_experiments]\n",
    "        accuracy_mean = np.mean(accuracy)\n",
    "        accuracy_std = np.std(accuracy)\n",
    "        results_p[num_labels] = f\"{accuracy_mean:.3f} ({accuracy_std:.2f})\"\n",
    "\n",
    "    def _extend_results(results_table, new_entries):\n",
    "        new_index = np.union1d(results_table.index, new_entries.index)\n",
    "        results_table = results_table.reindex(new_index)\n",
    "        new_entries = new_entries.reindex(new_index)\n",
    "        results_table[new_entries.name] = new_entries\n",
    "        return results_table\n",
    "\n",
    "    results_table = _extend_results(results_table, results_p)\n",
    "results_table"
   ]
  },
  {
   "cell_type": "code",
   "execution_count": 11,
   "metadata": {},
   "outputs": [
    {
     "name": "stdout",
     "output_type": "stream",
     "text": [
      "\\begin{tabular}{lllll}\n",
      "\\toprule\n",
      "{} &             1  &             2  &             5  &             10 \\\\\n",
      "\\midrule\n",
      "2.0 &  59.780 (1.06) &  65.733 (2.64) &  70.859 (4.11) &  75.643 (0.21) \\\\\n",
      "3.0 &  57.365 (1.71) &  63.303 (2.26) &  69.343 (4.47) &  74.592 (0.35) \\\\\n",
      "4.0 &  55.040 (2.21) &  61.707 (1.87) &  67.889 (4.25) &  73.704 (0.19) \\\\\n",
      "5.0 &  53.537 (2.58) &  60.633 (1.92) &  66.798 (3.73) &  72.755 (0.41) \\\\\n",
      "6.0 &  52.475 (2.82) &  59.759 (1.91) &  66.192 (3.48) &  72.163 (0.41) \\\\\n",
      "8.0 &  51.323 (3.19) &  58.956 (1.91) &  64.909 (3.21) &  71.378 (0.72) \\\\\n",
      "\\bottomrule\n",
      "\\end{tabular}\n",
      "\n"
     ]
    }
   ],
   "source": [
    "print(results_table.T.to_latex())"
   ]
  },
  {
   "cell_type": "code",
   "execution_count": null,
   "metadata": {},
   "outputs": [],
   "source": []
  }
 ],
 "metadata": {
  "kernelspec": {
   "display_name": "Python 3.9.7 ('thesis')",
   "language": "python",
   "name": "python3"
  },
  "language_info": {
   "codemirror_mode": {
    "name": "ipython",
    "version": 3
   },
   "file_extension": ".py",
   "mimetype": "text/x-python",
   "name": "python",
   "nbconvert_exporter": "python",
   "pygments_lexer": "ipython3",
   "version": "3.9.7"
  },
  "orig_nbformat": 4,
  "vscode": {
   "interpreter": {
    "hash": "0309fd4d8093f233da82b79409fbfbf31049f6fad33a75d9435ce0e16e3f1f61"
   }
  }
 },
 "nbformat": 4,
 "nbformat_minor": 2
}
