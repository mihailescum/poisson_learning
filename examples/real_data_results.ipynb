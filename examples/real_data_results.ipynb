{
 "cells": [
  {
   "cell_type": "code",
   "execution_count": 1,
   "metadata": {},
   "outputs": [],
   "source": [
    "import numpy as np\n",
    "import pandas as pd\n",
    "\n",
    "import poissonlearning as pl\n",
    "import graphlearning as gl\n",
    "\n",
    "import storage\n",
    "\n",
    "%load_ext autoreload\n",
    "%autoreload 2"
   ]
  },
  {
   "cell_type": "code",
   "execution_count": 8,
   "metadata": {},
   "outputs": [],
   "source": [
    "dataset = \"fashionmnist\"\n",
    "dataset_metric = \"vae\"\n",
    "experiments = storage.load_results(name=\"real_data\", folder=\"../results\")"
   ]
  },
  {
   "cell_type": "code",
   "execution_count": 9,
   "metadata": {},
   "outputs": [
    {
     "data": {
      "text/html": [
       "<div>\n",
       "<style scoped>\n",
       "    .dataframe tbody tr th:only-of-type {\n",
       "        vertical-align: middle;\n",
       "    }\n",
       "\n",
       "    .dataframe tbody tr th {\n",
       "        vertical-align: top;\n",
       "    }\n",
       "\n",
       "    .dataframe thead th {\n",
       "        text-align: right;\n",
       "    }\n",
       "</style>\n",
       "<table border=\"1\" class=\"dataframe\">\n",
       "  <thead>\n",
       "    <tr style=\"text-align: right;\">\n",
       "      <th></th>\n",
       "      <th>2.0</th>\n",
       "      <th>3.0</th>\n",
       "      <th>4.0</th>\n",
       "      <th>5.0</th>\n",
       "      <th>6.0</th>\n",
       "      <th>8.0</th>\n",
       "    </tr>\n",
       "  </thead>\n",
       "  <tbody>\n",
       "    <tr>\n",
       "      <th>1</th>\n",
       "      <td>58.312 (0.00)</td>\n",
       "      <td>55.680 (0.00)</td>\n",
       "      <td>53.219 (0.00)</td>\n",
       "      <td>51.817 (0.00)</td>\n",
       "      <td>50.901 (0.00)</td>\n",
       "      <td>49.685 (0.00)</td>\n",
       "    </tr>\n",
       "    <tr>\n",
       "      <th>2</th>\n",
       "      <td>67.521 (0.00)</td>\n",
       "      <td>63.911 (0.00)</td>\n",
       "      <td>62.307 (0.00)</td>\n",
       "      <td>61.160 (0.00)</td>\n",
       "      <td>60.244 (0.00)</td>\n",
       "      <td>58.610 (0.00)</td>\n",
       "    </tr>\n",
       "    <tr>\n",
       "      <th>5</th>\n",
       "      <td>66.201 (0.00)</td>\n",
       "      <td>64.878 (0.00)</td>\n",
       "      <td>63.540 (0.00)</td>\n",
       "      <td>62.417 (0.00)</td>\n",
       "      <td>61.784 (0.00)</td>\n",
       "      <td>61.223 (0.00)</td>\n",
       "    </tr>\n",
       "    <tr>\n",
       "      <th>10</th>\n",
       "      <td>69.522 (0.00)</td>\n",
       "      <td>68.174 (0.00)</td>\n",
       "      <td>67.565 (0.00)</td>\n",
       "      <td>67.101 (0.00)</td>\n",
       "      <td>66.957 (0.00)</td>\n",
       "      <td>66.580 (0.00)</td>\n",
       "    </tr>\n",
       "  </tbody>\n",
       "</table>\n",
       "</div>"
      ],
      "text/plain": [
       "              2.0            3.0            4.0            5.0            6.0  \\\n",
       "1   58.312 (0.00)  55.680 (0.00)  53.219 (0.00)  51.817 (0.00)  50.901 (0.00)   \n",
       "2   67.521 (0.00)  63.911 (0.00)  62.307 (0.00)  61.160 (0.00)  60.244 (0.00)   \n",
       "5   66.201 (0.00)  64.878 (0.00)  63.540 (0.00)  62.417 (0.00)  61.784 (0.00)   \n",
       "10  69.522 (0.00)  68.174 (0.00)  67.565 (0.00)  67.101 (0.00)  66.957 (0.00)   \n",
       "\n",
       "              8.0  \n",
       "1   49.685 (0.00)  \n",
       "2   58.610 (0.00)  \n",
       "5   61.223 (0.00)  \n",
       "10  66.580 (0.00)  "
      ]
     },
     "execution_count": 9,
     "metadata": {},
     "output_type": "execute_result"
    }
   ],
   "source": [
    "p_all = list(set((ex[\"p\"] for ex in experiments if ex[\"dataset\"] == dataset and ex[\"dataset_metric\"] == dataset_metric)))\n",
    "results_table = pd.DataFrame()\n",
    "for p in p_all:\n",
    "    labels_per_class_all = list(set((ex[\"labels_per_class\"] for ex in experiments if np.isclose(ex[\"p\"], p) and ex[\"dataset\"] == dataset and ex[\"dataset_metric\"] == dataset_metric)))\n",
    "    results_p = pd.Series(index=labels_per_class_all, name=p, dtype=\"object\")\n",
    "    for num_labels in labels_per_class_all:\n",
    "        selected_experiments = list(\n",
    "            filter(\n",
    "                lambda x: \n",
    "                    np.isclose(x[\"p\"], p) \n",
    "                    and np.all(np.isclose(x[\"labels_per_class\"], num_labels))\n",
    "                    and x[\"dataset\"] == dataset,\n",
    "                experiments\n",
    "            )\n",
    "        )\n",
    "        def _compute_accuracy(experiment):\n",
    "            prob = experiment[\"solution\"].drop(columns=[\"x\", \"y\", \"true_labels\"]).to_numpy()\n",
    "            scores = prob - np.min(prob)\n",
    "            scores = scores / np.max(scores)\n",
    "\n",
    "            # Check if scores are similarity or distance\n",
    "            pred_labels = np.argmax(scores, axis=1)\n",
    "            accuracy = gl.ssl.ssl_accuracy(experiment[\"solution\"][\"true_labels\"], pred_labels, experiment[\"labels_per_class\"] * 10)\n",
    "            return accuracy\n",
    "        accuracy = [_compute_accuracy(ex) for ex in selected_experiments]\n",
    "        accuracy_mean = np.mean(accuracy)\n",
    "        accuracy_std = np.std(accuracy)\n",
    "        results_p[num_labels] = f\"{accuracy_mean:.3f} ({accuracy_std:.2f})\"\n",
    "\n",
    "    def _extend_results(results_table, new_entries):\n",
    "        new_index = np.union1d(results_table.index, new_entries.index)\n",
    "        results_table = results_table.reindex(new_index)\n",
    "        new_entries = new_entries.reindex(new_index)\n",
    "        results_table[new_entries.name] = new_entries\n",
    "        return results_table\n",
    "\n",
    "    results_table = _extend_results(results_table, results_p)\n",
    "results_table"
   ]
  },
  {
   "cell_type": "code",
   "execution_count": 11,
   "metadata": {},
   "outputs": [
    {
     "name": "stdout",
     "output_type": "stream",
     "text": [
      "\\begin{tabular}{lllll}\n",
      "\\toprule\n",
      "{} &             1  &             2  &             5  &             10 \\\\\n",
      "\\midrule\n",
      "2.0 &  58.312 (0.00) &  67.521 (0.00) &  66.201 (0.00) &  69.522 (0.00) \\\\\n",
      "3.0 &  55.680 (0.00) &  63.911 (0.00) &  64.878 (0.00) &  68.174 (0.00) \\\\\n",
      "4.0 &  53.219 (0.00) &  62.307 (0.00) &  63.540 (0.00) &  67.565 (0.00) \\\\\n",
      "5.0 &  51.817 (0.00) &  61.160 (0.00) &  62.417 (0.00) &  67.101 (0.00) \\\\\n",
      "6.0 &  50.901 (0.00) &  60.244 (0.00) &  61.784 (0.00) &  66.957 (0.00) \\\\\n",
      "8.0 &  49.685 (0.00) &  58.610 (0.00) &  61.223 (0.00) &  66.580 (0.00) \\\\\n",
      "\\bottomrule\n",
      "\\end{tabular}\n",
      "\n"
     ]
    }
   ],
   "source": [
    "print(results_table.T.to_latex())"
   ]
  },
  {
   "cell_type": "code",
   "execution_count": null,
   "metadata": {},
   "outputs": [],
   "source": []
  }
 ],
 "metadata": {
  "kernelspec": {
   "display_name": "Python 3.9.7 ('thesis')",
   "language": "python",
   "name": "python3"
  },
  "language_info": {
   "codemirror_mode": {
    "name": "ipython",
    "version": 3
   },
   "file_extension": ".py",
   "mimetype": "text/x-python",
   "name": "python",
   "nbconvert_exporter": "python",
   "pygments_lexer": "ipython3",
   "version": "3.9.7"
  },
  "orig_nbformat": 4,
  "vscode": {
   "interpreter": {
    "hash": "0309fd4d8093f233da82b79409fbfbf31049f6fad33a75d9435ce0e16e3f1f61"
   }
  }
 },
 "nbformat": 4,
 "nbformat_minor": 2
}
