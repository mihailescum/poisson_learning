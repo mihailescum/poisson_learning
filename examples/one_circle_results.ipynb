{
 "cells": [
  {
   "cell_type": "markdown",
   "metadata": {},
   "source": [
    "## Setup"
   ]
  },
  {
   "cell_type": "code",
   "execution_count": 1,
   "metadata": {},
   "outputs": [],
   "source": [
    "import numpy as np\n",
    "import pandas as pd\n",
    "from scipy.spatial.distance import cdist\n",
    "\n",
    "import matplotlib.pyplot as plt\n",
    "\n",
    "cm = 1/2.54  # centimeters in inches\n",
    "scaling = 1\n",
    "plt.rc(\"figure\", figsize=(16*scaling*cm,7*scaling))\n",
    "\n",
    "import poissonlearning as pl\n",
    "\n",
    "import storage\n",
    "import plotting\n",
    "\n",
    "plotting.setup(latex=True)\n",
    "\n",
    "%load_ext autoreload\n",
    "%autoreload 2\n",
    "\n",
    "%matplotlib qt"
   ]
  },
  {
   "cell_type": "code",
   "execution_count": 2,
   "metadata": {},
   "outputs": [],
   "source": [
    "SAVE_PLOTS = False\n",
    "NUM_PLOTTING_POINTS = 5000"
   ]
  },
  {
   "cell_type": "markdown",
   "metadata": {},
   "source": [
    "### Convenience functions"
   ]
  },
  {
   "cell_type": "code",
   "execution_count": 3,
   "metadata": {},
   "outputs": [],
   "source": [
    "def compute_analytic_solution(xy, z1, z2):\n",
    "    # Compute the analytic continuum limit\n",
    "    green_first_label = pl.datasets.one_circle.greens_function(x=xy, z=z1)\n",
    "    green_second_label = pl.datasets.one_circle.greens_function(x=xy, z=z2)\n",
    "    solution_analytic = -0.5 * green_first_label + 0.5 * green_second_label\n",
    "    return solution_analytic\n",
    "\n",
    "\n",
    "def compute_errors(experiments):\n",
    "    for experiment in experiments:\n",
    "        solution = experiment[\"solution\"]\n",
    "        xy = solution[[\"x\", \"y\"]].to_numpy()\n",
    "        z = solution[\"z\"].to_numpy()\n",
    "\n",
    "        z1 = experiment[\"label_locations\"][0]\n",
    "        z2 = experiment[\"label_locations\"][1]\n",
    "        analytic = compute_analytic_solution(xy, z1, z2)\n",
    "\n",
    "        mask_infty = np.isfinite(analytic)\n",
    "\n",
    "        # For knn graphs compute the scale\n",
    "        if \"n_neighbors\" in experiment:\n",
    "            knn_scale = np.median((analytic[mask_infty] / z[mask_infty]))\n",
    "            z *= knn_scale\n",
    "            experiment[\"knn_scale\"] = knn_scale\n",
    "            print(f\"n={experiment['n']}; n_neighbors={experiment['n_neighbors']} scale={knn_scale}\")\n",
    "\n",
    "        error_L1 = np.abs(z[mask_infty] - analytic[mask_infty]).mean()\n",
    "        experiment[\"error_L1\"] = error_L1\n",
    "\n",
    "        # Compute error to dirac experiment, if exists\n",
    "        e_dirac = list(\n",
    "            filter(\n",
    "                lambda x: x[\"seed\"] == experiment[\"seed\"]\n",
    "                and x[\"n\"] == experiment[\"n\"]\n",
    "                and ((\n",
    "                        \"eps\" in experiment\n",
    "                        and \"eps\" in x\n",
    "                        and np.isclose(x[\"eps\"], experiment[\"eps\"])\n",
    "                    ) \n",
    "                    or (\n",
    "                        \"n_neighbors\" in experiment\n",
    "                        and \"n_neighbors\" in x\n",
    "                        and x[\"n_neighbors\"] == experiment[\"n_neighbors\"]\n",
    "                    )\n",
    "                )\n",
    "                and np.allclose(x[\"label_locations\"], experiment[\"label_locations\"])\n",
    "                and x[\"kernel\"] == experiment[\"kernel\"]\n",
    "                and x[\"bump\"] == \"dirac\",\n",
    "                experiments,\n",
    "            )\n",
    "        )\n",
    "        if e_dirac:\n",
    "            error_L1_dirac = np.abs(solution[\"z\"] - e_dirac[0][\"solution\"][\"z\"]).mean()\n",
    "            experiment[\"error_L1_dirac\"] = error_L1_dirac"
   ]
  },
  {
   "cell_type": "markdown",
   "metadata": {},
   "source": [
    "### Load experiments and compute errors"
   ]
  },
  {
   "cell_type": "code",
   "execution_count": 4,
   "metadata": {},
   "outputs": [
    {
     "name": "stdout",
     "output_type": "stream",
     "text": [
      "n=10000; n_neighbors=5 scale=0.03531368570251348\n",
      "n=10000; n_neighbors=10 scale=0.4257016632801417\n",
      "n=10000; n_neighbors=15 scale=1.2650102494404698\n",
      "n=30000; n_neighbors=5 scale=0.03252465362562131\n",
      "n=30000; n_neighbors=10 scale=0.4180753786504111\n",
      "n=30000; n_neighbors=15 scale=1.2671970486576156\n",
      "n=50000; n_neighbors=5 scale=0.03172208086332564\n",
      "n=50000; n_neighbors=10 scale=0.4161213187926508\n",
      "n=100000; n_neighbors=5 scale=0.03363445243842499\n",
      "n=300000; n_neighbors=5 scale=0.033424712697089826\n",
      "n=700000; n_neighbors=5 scale=0.03314578362687651\n",
      "n=700000; n_neighbors=5 scale=0.03314578362306247\n",
      "n=700000; n_neighbors=5 scale=0.03324371113825467\n",
      "n=700000; n_neighbors=5 scale=0.03333764958633802\n",
      "n=10000; n_neighbors=5 scale=0.03230203173607754\n",
      "n=10000; n_neighbors=10 scale=0.42105127277276544\n",
      "n=10000; n_neighbors=15 scale=1.2916902110681827\n",
      "n=30000; n_neighbors=5 scale=0.03356011131978798\n",
      "n=30000; n_neighbors=10 scale=0.4281278317068722\n",
      "n=30000; n_neighbors=15 scale=1.2860120379198932\n",
      "n=50000; n_neighbors=5 scale=0.03281239681721456\n",
      "n=50000; n_neighbors=10 scale=0.42644789146466056\n",
      "n=100000; n_neighbors=5 scale=0.03284728829992421\n",
      "n=300000; n_neighbors=5 scale=0.03346796741126629\n",
      "n=700000; n_neighbors=5 scale=0.033603847899090045\n",
      "n=700000; n_neighbors=5 scale=0.03360411846673088\n",
      "n=700000; n_neighbors=5 scale=0.033586195317260994\n",
      "n=700000; n_neighbors=5 scale=0.0336080291704962\n",
      "n=10000; n_neighbors=5 scale=0.0324406138763025\n",
      "n=10000; n_neighbors=10 scale=0.43224665320945244\n",
      "n=10000; n_neighbors=15 scale=1.2891705382452248\n",
      "n=30000; n_neighbors=5 scale=0.03418588059115252\n",
      "n=30000; n_neighbors=10 scale=0.42626861551999873\n",
      "n=30000; n_neighbors=15 scale=1.2782428046842162\n",
      "n=50000; n_neighbors=5 scale=0.034937810661856014\n",
      "n=50000; n_neighbors=10 scale=0.4338271077166526\n",
      "n=100000; n_neighbors=5 scale=0.032984806992959546\n",
      "n=300000; n_neighbors=5 scale=0.0339088839131245\n",
      "n=700000; n_neighbors=5 scale=0.03377814471286753\n",
      "n=700000; n_neighbors=5 scale=0.03377820076218919\n",
      "n=700000; n_neighbors=5 scale=0.033765375744907164\n",
      "n=700000; n_neighbors=5 scale=0.033692404477505544\n",
      "n=10000; n_neighbors=5 scale=0.0345025724702069\n",
      "n=10000; n_neighbors=10 scale=0.4360346357607915\n",
      "n=10000; n_neighbors=15 scale=1.2947430533287032\n",
      "n=30000; n_neighbors=5 scale=0.03437720669136584\n",
      "n=30000; n_neighbors=10 scale=0.4320654435262177\n",
      "n=30000; n_neighbors=15 scale=1.291790322229238\n",
      "n=50000; n_neighbors=5 scale=0.03420841591693899\n",
      "n=50000; n_neighbors=10 scale=0.4306615255361903\n",
      "n=100000; n_neighbors=5 scale=0.03366509705201728\n",
      "n=300000; n_neighbors=5 scale=0.03358515274915089\n",
      "n=700000; n_neighbors=5 scale=0.033406221037265746\n",
      "n=700000; n_neighbors=5 scale=0.033406525700034495\n",
      "n=700000; n_neighbors=5 scale=0.033425099413261605\n",
      "n=700000; n_neighbors=5 scale=0.03346795006437733\n"
     ]
    }
   ],
   "source": [
    "experiments = storage.load_results(name=\"one_circle\", folder=\"../results\")\n",
    "compute_errors(experiments)"
   ]
  },
  {
   "cell_type": "markdown",
   "metadata": {},
   "source": [
    "## Plotting"
   ]
  },
  {
   "cell_type": "markdown",
   "metadata": {},
   "source": [
    "### solution vs analytic"
   ]
  },
  {
   "cell_type": "code",
   "execution_count": 5,
   "metadata": {},
   "outputs": [],
   "source": [
    "bump_width = \"dirac\"\n",
    "n = 100000\n",
    "ex_plot = list(\n",
    "    filter(lambda x: \n",
    "        x[\"n\"] == n \n",
    "        and x[\"bump\"] == bump_width\n",
    "        and \"eps\" in x,\n",
    "        experiments,\n",
    "    )\n",
    ")[0]\n",
    "\n",
    "solution_plot = ex_plot[\"solution\"]\n",
    "sample = solution_plot.sample(NUM_PLOTTING_POINTS, random_state=1)\n",
    "\n",
    "xy = sample[[\"x\", \"y\"]].to_numpy()\n",
    "dist = cdist(xy, xy, metric=\"euclidean\")"
   ]
  },
  {
   "cell_type": "code",
   "execution_count": 6,
   "metadata": {},
   "outputs": [],
   "source": [
    "fig = plt.figure()\n",
    "ax_solution = fig.add_subplot(1, 2, 1, projection=\"3d\")\n",
    "plotting.plot_graph_function_scatter(\n",
    "    ax_solution, xy, sample[\"z\"].to_numpy(), dist=dist, max_dist=0.1,\n",
    ")\n",
    "\n",
    "z1 = ex_plot[\"label_locations\"][0]\n",
    "z2 = ex_plot[\"label_locations\"][1]\n",
    "analytic = compute_analytic_solution(xy, z1, z2)\n",
    "ax_analytic = fig.add_subplot(1, 2, 2, projection=\"3d\")\n",
    "plotting.plot_graph_function_with_triangulation(\n",
    "    ax_analytic, xy, analytic, dist=dist, max_dist=0.1,\n",
    ")\n",
    "# fig_results.suptitle(f\"Discrete solution [n={n}] vs analytic solution\")\n",
    "fig.tight_layout()\n",
    "\n",
    "if SAVE_PLOTS:\n",
    "    fig.savefig(f\"../plots/one_circle_demo.png\", bbox_inches=\"tight\")"
   ]
  },
  {
   "cell_type": "markdown",
   "metadata": {},
   "source": [
    "### Error for Dirac RHS"
   ]
  },
  {
   "cell_type": "code",
   "execution_count": 8,
   "metadata": {},
   "outputs": [],
   "source": [
    "selected_experiments = {\n",
    "    kernel: list(\n",
    "        filter(\n",
    "            lambda x: x[\"kernel\"] == kernel\n",
    "            and x[\"bump\"] == \"dirac\"\n",
    "            and \"eps\" in x\n",
    "            and (\n",
    "                x[\"n\"] != 100000 or np.isclose(x[\"eps\"], 0.00930454)\n",
    "            ),  # Keep only eps = np.log(n) ** (1 / 15) * conn_radius\n",
    "            experiments,\n",
    "        )\n",
    "    )\n",
    "    for kernel in [\"gaussian\"]\n",
    "}\n",
    "\n",
    "n_error = sorted(list(set([e[\"n\"] for e in list(selected_experiments.values())[0]])))\n",
    "error = {kernel: {} for kernel in selected_experiments.keys()}\n",
    "for kernel, experiments_with_kernel in selected_experiments.items():\n",
    "    for n in n_error:\n",
    "        ex = list(filter(lambda x: x[\"n\"] == n, experiments_with_kernel))\n",
    "        error[kernel][n] = {}\n",
    "        error[kernel][n][\"mean\"] = np.mean([e[\"error_L1\"] for e in ex])\n",
    "        error[kernel][n][\"max\"] = np.max([e[\"error_L1\"] for e in ex])\n",
    "        error[kernel][n][\"min\"] = np.min([e[\"error_L1\"] for e in ex])"
   ]
  },
  {
   "cell_type": "code",
   "execution_count": 9,
   "metadata": {},
   "outputs": [
    {
     "name": "stderr",
     "output_type": "stream",
     "text": [
      "/home/max/Dokumente/Studium/Masterarbeit/code/poisson_learning/examples/plotting.py:121: RuntimeWarning: overflow encountered in power\n",
      "  return a * (X ** (-n))\n",
      "INFO:plotting:Fitted parameters: [4.14933972e+03 9.69459090e-01]\n"
     ]
    }
   ],
   "source": [
    "fig, ax = plt.subplots(1, 1)\n",
    "plotting.error_plot(error, ax, fit=\"polynomial\")\n",
    "# ax_error.set_title(f\"L1 Error compared with RHS {bump_width} to analytic solution\")\n",
    "ax.legend()\n",
    "ax.set_xlabel(r\"$n$\")\n",
    "ax.set_ylabel(r\"$\\lVert u_n - u \\rVert_{L^1 \\left(B_1 \\right)}$\")\n",
    "fig.tight_layout()\n",
    "\n",
    "if SAVE_PLOTS:\n",
    "    fig.savefig(f\"../plots/one_circle_dirac_n.pdf\", bbox_inches=\"tight\")"
   ]
  },
  {
   "cell_type": "markdown",
   "metadata": {},
   "source": [
    "### Error for Dirac RHS with KNN graph"
   ]
  },
  {
   "cell_type": "code",
   "execution_count": 10,
   "metadata": {},
   "outputs": [],
   "source": [
    "selected_experiments = {\n",
    "    kernel: list(\n",
    "        filter(\n",
    "            lambda x: x[\"kernel\"] == kernel\n",
    "            and x[\"bump\"] == \"dirac\"\n",
    "            and \"n_neighbors\" in x,\n",
    "            experiments,\n",
    "        )\n",
    "    )\n",
    "    for kernel in [\"gaussian\"]\n",
    "}\n",
    "\n",
    "n_error = sorted(list(set([e[\"n\"] for e in list(selected_experiments.values())[0]])))\n",
    "error = {kernel: {} for kernel in selected_experiments.keys()}\n",
    "for kernel, experiments_with_kernel in selected_experiments.items():\n",
    "    for n in n_error:\n",
    "        ex = list(filter(lambda x: x[\"n\"] == n, experiments_with_kernel))\n",
    "        if n == 100000:\n",
    "            v = ex\n",
    "        error[kernel][n] = {}\n",
    "        error[kernel][n][\"mean\"] = np.mean([e[\"error_L1\"] for e in ex])\n",
    "        error[kernel][n][\"max\"] = np.max([e[\"error_L1\"] for e in ex])\n",
    "        error[kernel][n][\"min\"] = np.min([e[\"error_L1\"] for e in ex])"
   ]
  },
  {
   "cell_type": "code",
   "execution_count": 11,
   "metadata": {},
   "outputs": [
    {
     "name": "stderr",
     "output_type": "stream",
     "text": [
      "/home/max/Dokumente/Studium/Masterarbeit/code/poisson_learning/examples/plotting.py:121: RuntimeWarning: overflow encountered in power\n",
      "  return a * (X ** (-n))\n",
      "INFO:plotting:Fitted parameters: [0.17199179 0.27063953]\n"
     ]
    }
   ],
   "source": [
    "fig, ax = plt.subplots(1, 1)\n",
    "plotting.error_plot(error, ax, fit=\"polynomial\")\n",
    "# ax_error.set_title(f\"L1 Error compared with RHS {bump_width} to analytic solution\")\n",
    "ax.legend()\n",
    "ax.set_xlabel(r\"$n$\")\n",
    "ax.set_ylabel(r\"$\\lVert u_n - u \\rVert_{L^1 \\left(B_1 \\right)}$\")\n",
    "fig.tight_layout()\n",
    "\n",
    "if SAVE_PLOTS:\n",
    "    fig.savefig(f\"../plots/one_circle_dirac_n_knn.pdf\", bbox_inches=\"tight\")"
   ]
  },
  {
   "cell_type": "markdown",
   "metadata": {},
   "source": [
    "### Convergence of bump RHS"
   ]
  },
  {
   "cell_type": "code",
   "execution_count": 49,
   "metadata": {},
   "outputs": [],
   "source": [
    "n = 700000\n",
    "selected_experiments = {\n",
    "    kernel: list(\n",
    "        filter(\n",
    "            lambda x: x[\"kernel\"] == kernel and x[\"n\"] == n\n",
    "            and \"eps\" in x, \n",
    "            experiments,\n",
    "        )\n",
    "    )\n",
    "    for kernel in [\"gaussian\"]\n",
    "}\n",
    "\n",
    "bump_error = list(set([e[\"bump\"] for e in list(selected_experiments.values())[0]]))\n",
    "bump_error = sorted([b for b in bump_error if isinstance(b, float)])\n",
    "error = {kernel: {} for kernel in selected_experiments.keys()}\n",
    "for kernel, experiments_with_kernel in selected_experiments.items():\n",
    "    for bump in bump_error:\n",
    "        ex = list(filter(lambda x: x[\"bump\"] == bump, experiments_with_kernel))\n",
    "        bump_inv = 1.0 / bump\n",
    "        error[kernel][bump_inv] = {}\n",
    "        error[kernel][bump_inv][\"mean\"] = np.mean([e[\"error_L1_dirac\"] for e in ex])\n",
    "        error[kernel][bump_inv][\"max\"] = np.max([e[\"error_L1_dirac\"] for e in ex])\n",
    "        error[kernel][bump_inv][\"min\"] = np.min([e[\"error_L1_dirac\"] for e in ex])"
   ]
  },
  {
   "cell_type": "code",
   "execution_count": null,
   "metadata": {},
   "outputs": [],
   "source": [
    "for kernel, e in error.items():\n",
    "    fig, ax = plt.subplots(1, 1)\n",
    "    plotting.error_plot({kernel: e}, ax, fit=\"exponential\")\n",
    "\n",
    "    # ax.set_xscale(\"log\")\n",
    "    # ax.set_title(\"L1 error of solution with dirac RHS\")\n",
    "    ax.legend()\n",
    "    ax.set_xlabel(r\"$1/\\delta$\")\n",
    "    ax.set_ylabel(fr\"$\\lVert u_{ {n} } - u_{ {n} }^\\delta \\rVert_1$\")\n",
    "    ax.set_xscale(\"log\")\n",
    "\n",
    "    fig.tight_layout()\n",
    "    if SAVE_PLOTS:\n",
    "        fig.savefig(f\"../plots/one_circle_delta_{kernel}.pdf\", bbox_inches=\"tight\")"
   ]
  },
  {
   "cell_type": "markdown",
   "metadata": {},
   "source": [
    "### Convergence for different choices of epsilon"
   ]
  },
  {
   "cell_type": "code",
   "execution_count": null,
   "metadata": {},
   "outputs": [],
   "source": [
    "n = 100000\n",
    "selected_experiments = {\n",
    "    kernel: list(\n",
    "        filter(\n",
    "            lambda x: x[\"kernel\"] == kernel\n",
    "            and x[\"n\"] == n\n",
    "            and x[\"bump\"] == \"dirac\"\n",
    "            and \"eps\" in x,\n",
    "            experiments,\n",
    "        )\n",
    "    )\n",
    "    for kernel in [\"gaussian\"]\n",
    "}\n",
    "eps_error = list(set([e[\"eps\"] for e in list(selected_experiments.values())[0]]))\n",
    "eps_error = sorted(eps_error)\n",
    "error = {kernel: {} for kernel in selected_experiments.keys()}\n",
    "n_connected_component = {kernel: {} for kernel in selected_experiments.keys()}\n",
    "for kernel, experiments_with_kernel in selected_experiments.items():\n",
    "    for eps in eps_error:\n",
    "        ex = list(filter(lambda x: np.isclose(x[\"eps\"], eps), experiments_with_kernel))\n",
    "        error[kernel][eps] = {}\n",
    "        error[kernel][eps][\"mean\"] = np.mean([e[\"error_L1\"] for e in ex])\n",
    "        error[kernel][eps][\"max\"] = np.max([e[\"error_L1\"] for e in ex])\n",
    "        error[kernel][eps][\"min\"] = np.min([e[\"error_L1\"] for e in ex])\n",
    "\n",
    "        n_connected_component[kernel][eps] = {}\n",
    "        n_connected_component[kernel][eps][\"mean\"] = np.mean([e[\"solution\"].shape[0] for e in ex])\n",
    "        n_connected_component[kernel][eps][\"max\"] = np.max([e[\"solution\"].shape[0] for e in ex])\n",
    "        n_connected_component[kernel][eps][\"min\"] = np.min([e[\"solution\"].shape[0] for e in ex])"
   ]
  },
  {
   "cell_type": "code",
   "execution_count": 1,
   "metadata": {},
   "outputs": [
    {
     "ename": "NameError",
     "evalue": "name 'error' is not defined",
     "output_type": "error",
     "traceback": [
      "\u001b[0;31m---------------------------------------------------------------------------\u001b[0m",
      "\u001b[0;31mNameError\u001b[0m                                 Traceback (most recent call last)",
      "\u001b[0;32m/tmp/ipykernel_11022/2517340955.py\u001b[0m in \u001b[0;36m<module>\u001b[0;34m\u001b[0m\n\u001b[0;32m----> 1\u001b[0;31m \u001b[0;32mfor\u001b[0m \u001b[0mkernel\u001b[0m\u001b[0;34m,\u001b[0m \u001b[0me\u001b[0m \u001b[0;32min\u001b[0m \u001b[0merror\u001b[0m\u001b[0;34m.\u001b[0m\u001b[0mitems\u001b[0m\u001b[0;34m(\u001b[0m\u001b[0;34m)\u001b[0m\u001b[0;34m:\u001b[0m\u001b[0;34m\u001b[0m\u001b[0;34m\u001b[0m\u001b[0m\n\u001b[0m\u001b[1;32m      2\u001b[0m     \u001b[0mfig\u001b[0m\u001b[0;34m,\u001b[0m \u001b[0max\u001b[0m \u001b[0;34m=\u001b[0m \u001b[0mplt\u001b[0m\u001b[0;34m.\u001b[0m\u001b[0msubplots\u001b[0m\u001b[0;34m(\u001b[0m\u001b[0;36m1\u001b[0m\u001b[0;34m,\u001b[0m \u001b[0;36m1\u001b[0m\u001b[0;34m)\u001b[0m\u001b[0;34m\u001b[0m\u001b[0;34m\u001b[0m\u001b[0m\n\u001b[1;32m      3\u001b[0m     \u001b[0mplotting\u001b[0m\u001b[0;34m.\u001b[0m\u001b[0merror_plot\u001b[0m\u001b[0;34m(\u001b[0m\u001b[0;34m{\u001b[0m\u001b[0mkernel\u001b[0m\u001b[0;34m:\u001b[0m \u001b[0me\u001b[0m\u001b[0;34m}\u001b[0m\u001b[0;34m,\u001b[0m \u001b[0max\u001b[0m\u001b[0;34m)\u001b[0m\u001b[0;31m#, fit=\"polynomial\")\u001b[0m\u001b[0;34m\u001b[0m\u001b[0;34m\u001b[0m\u001b[0m\n\u001b[1;32m      4\u001b[0m \u001b[0;34m\u001b[0m\u001b[0m\n\u001b[1;32m      5\u001b[0m     \u001b[0max\u001b[0m\u001b[0;34m.\u001b[0m\u001b[0mlegend\u001b[0m\u001b[0;34m(\u001b[0m\u001b[0;34m)\u001b[0m\u001b[0;34m\u001b[0m\u001b[0;34m\u001b[0m\u001b[0m\n",
      "\u001b[0;31mNameError\u001b[0m: name 'error' is not defined"
     ]
    }
   ],
   "source": [
    "for kernel, e in error.items():\n",
    "    fig, ax = plt.subplots(1, 1)\n",
    "    plotting.error_plot({kernel: e}, ax)#, fit=\"polynomial\")\n",
    "\n",
    "    ax.legend()\n",
    "    ax.set_xlabel(fr\"$h_{ {n} }$\")\n",
    "    ax.set_ylabel(fr\"$\\lVert u_{ {n} } - u \\rVert_1$\")\n",
    "    #ax.set_xscale(\"log\")\n",
    "\n",
    "    ax_n = ax.twinx()\n",
    "    plotting.error_plot({kernel: n_connected_component[kernel]}, ax_n, c=\"blue\")#, fit=\"polynomial\")\n",
    "    ax_n.grid(None)\n",
    "    fig.tight_layout()\n",
    "    if SAVE_PLOTS:\n",
    "        ax.savefig(f\"../plots/one_circle_convergence_eps.pdf\", bbox_inches=\"tight\")"
   ]
  },
  {
   "cell_type": "code",
   "execution_count": null,
   "metadata": {},
   "outputs": [],
   "source": []
  }
 ],
 "metadata": {
  "kernelspec": {
   "display_name": "Python 3.9.7 ('thesis')",
   "language": "python",
   "name": "python3"
  },
  "language_info": {
   "codemirror_mode": {
    "name": "ipython",
    "version": 3
   },
   "file_extension": ".py",
   "mimetype": "text/x-python",
   "name": "python",
   "nbconvert_exporter": "python",
   "pygments_lexer": "ipython3",
   "version": "3.9.7"
  },
  "orig_nbformat": 4,
  "vscode": {
   "interpreter": {
    "hash": "0309fd4d8093f233da82b79409fbfbf31049f6fad33a75d9435ce0e16e3f1f61"
   }
  }
 },
 "nbformat": 4,
 "nbformat_minor": 2
}
