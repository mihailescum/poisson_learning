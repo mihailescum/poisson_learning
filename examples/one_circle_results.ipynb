{
 "cells": [
  {
   "cell_type": "markdown",
   "metadata": {},
   "source": [
    "## Setup"
   ]
  },
  {
   "cell_type": "code",
   "execution_count": 53,
   "metadata": {},
   "outputs": [
    {
     "name": "stdout",
     "output_type": "stream",
     "text": [
      "The autoreload extension is already loaded. To reload it, use:\n",
      "  %reload_ext autoreload\n"
     ]
    }
   ],
   "source": [
    "import numpy as np\n",
    "import pandas as pd\n",
    "from scipy.spatial.distance import cdist\n",
    "\n",
    "import matplotlib.pyplot as plt\n",
    "fig_width = (21-5)/2.54\n",
    "import seaborn as sns\n",
    "sns.set_context(\"paper\")\n",
    "\n",
    "import poissonlearning as pl\n",
    "\n",
    "import storage\n",
    "import plotting\n",
    "\n",
    "plotting.setup(latex=True)\n",
    "\n",
    "%load_ext autoreload\n",
    "%autoreload 2\n",
    "\n",
    "%matplotlib inline"
   ]
  },
  {
   "cell_type": "code",
   "execution_count": 54,
   "metadata": {},
   "outputs": [],
   "source": [
    "SAVE_PLOTS = True\n",
    "NUM_PLOTTING_POINTS = 5000"
   ]
  },
  {
   "cell_type": "markdown",
   "metadata": {},
   "source": [
    "### Convenience functions"
   ]
  },
  {
   "cell_type": "code",
   "execution_count": 55,
   "metadata": {},
   "outputs": [],
   "source": [
    "def compute_analytic_solution(xy, z1, z2):\n",
    "    # Compute the analytic continuum limit\n",
    "    green_first_label = pl.datasets.one_circle.greens_function(x=xy, z=z1)\n",
    "    green_second_label = pl.datasets.one_circle.greens_function(x=xy, z=z2)\n",
    "    solution_analytic = -0.5 * green_first_label + 0.5 * green_second_label\n",
    "    return solution_analytic\n",
    "\n",
    "\n",
    "def compute_errors(experiments):\n",
    "    for experiment in experiments:\n",
    "        solution = experiment[\"solution\"]\n",
    "        xy = solution[[\"x\", \"y\"]].to_numpy()\n",
    "        z = solution[\"z\"].to_numpy()\n",
    "\n",
    "        z1 = experiment[\"label_locations\"][0]\n",
    "        z2 = experiment[\"label_locations\"][1]\n",
    "        analytic = compute_analytic_solution(xy, z1, z2)\n",
    "\n",
    "        mask_infty = np.isfinite(analytic)\n",
    "\n",
    "        # For knn graphs compute the scale\n",
    "        if \"n_neighbors\" in experiment:\n",
    "            knn_scale = np.median((analytic[mask_infty] / z[mask_infty]))\n",
    "            z *= knn_scale\n",
    "            experiment[\"knn_scale\"] = knn_scale\n",
    "            print(f\"n={experiment['n']}; n_neighbors={experiment['n_neighbors']} scale={knn_scale}\")\n",
    "\n",
    "        error_L1 = np.abs(z[mask_infty] - analytic[mask_infty]).mean()\n",
    "        experiment[\"error_L1\"] = error_L1\n",
    "\n",
    "        # Compute error to dirac experiment, if exists\n",
    "        e_dirac = list(\n",
    "            filter(\n",
    "                lambda x: x[\"seed\"] == experiment[\"seed\"]\n",
    "                and x[\"n\"] == experiment[\"n\"]\n",
    "                and ((\n",
    "                        \"eps\" in experiment\n",
    "                        and \"eps\" in x\n",
    "                        and np.isclose(x[\"eps\"], experiment[\"eps\"])\n",
    "                    ) \n",
    "                    or (\n",
    "                        \"n_neighbors\" in experiment\n",
    "                        and \"n_neighbors\" in x\n",
    "                        and x[\"n_neighbors\"] == experiment[\"n_neighbors\"]\n",
    "                    )\n",
    "                )\n",
    "                and np.allclose(x[\"label_locations\"], experiment[\"label_locations\"])\n",
    "                and x[\"kernel\"] == experiment[\"kernel\"]\n",
    "                and x[\"bump\"] == \"dirac\",\n",
    "                experiments,\n",
    "            )\n",
    "        )\n",
    "        if e_dirac:\n",
    "            error_L1_dirac = np.abs(solution[\"z\"] - e_dirac[0][\"solution\"][\"z\"]).mean()\n",
    "            experiment[\"error_L1_dirac\"] = error_L1_dirac"
   ]
  },
  {
   "cell_type": "markdown",
   "metadata": {},
   "source": [
    "### Load experiments and compute errors"
   ]
  },
  {
   "cell_type": "code",
   "execution_count": 56,
   "metadata": {},
   "outputs": [
    {
     "name": "stdout",
     "output_type": "stream",
     "text": [
      "n=10000; n_neighbors=27 scale=2.6025080452006133\n",
      "n=10000; n_neighbors=27 scale=2.600854154729152\n",
      "n=10000; n_neighbors=27 scale=2.6025080452006133\n",
      "n=10000; n_neighbors=27 scale=2.6052836527153924\n",
      "n=30000; n_neighbors=33 scale=4.063448281421347\n",
      "n=30000; n_neighbors=33 scale=4.058261640347276\n",
      "n=30000; n_neighbors=33 scale=4.060988532651576\n",
      "n=30000; n_neighbors=33 scale=4.066979050388181\n",
      "n=50000; n_neighbors=35 scale=4.609121394715809\n",
      "n=50000; n_neighbors=35 scale=4.607116888210167\n",
      "n=50000; n_neighbors=35 scale=4.608964586569925\n",
      "n=50000; n_neighbors=35 scale=4.622827097036275\n",
      "n=100000; n_neighbors=39 scale=5.86544460211956\n",
      "n=100000; n_neighbors=39 scale=5.864445652787147\n",
      "n=100000; n_neighbors=39 scale=5.866260940664169\n",
      "n=100000; n_neighbors=39 scale=5.859062819929386\n",
      "n=300000; n_neighbors=44 scale=7.6195603042888145\n",
      "n=300000; n_neighbors=44 scale=7.616096154963949\n",
      "n=300000; n_neighbors=44 scale=7.620682770058512\n",
      "n=300000; n_neighbors=44 scale=7.622856437194341\n",
      "n=700000; n_neighbors=49 scale=9.604745810307959\n",
      "n=700000; n_neighbors=49 scale=9.601769325246753\n",
      "n=700000; n_neighbors=49 scale=9.604638927066366\n",
      "n=700000; n_neighbors=49 scale=9.59945212759002\n",
      "n=10000; n_neighbors=27 scale=2.6508158242997464\n",
      "n=10000; n_neighbors=27 scale=2.655263060813168\n",
      "n=10000; n_neighbors=27 scale=2.6513464745898156\n",
      "n=10000; n_neighbors=27 scale=2.645248088381417\n",
      "n=30000; n_neighbors=33 scale=4.103690832645929\n",
      "n=30000; n_neighbors=33 scale=4.104987721042653\n",
      "n=30000; n_neighbors=33 scale=4.105281167934068\n",
      "n=30000; n_neighbors=33 scale=4.106688275316313\n",
      "n=50000; n_neighbors=35 scale=4.669089467278894\n",
      "n=50000; n_neighbors=35 scale=4.671137986636027\n",
      "n=50000; n_neighbors=35 scale=4.66824723181449\n",
      "n=50000; n_neighbors=35 scale=4.674392498239294\n",
      "n=100000; n_neighbors=39 scale=5.883147938910247\n",
      "n=100000; n_neighbors=39 scale=5.885743627542563\n",
      "n=100000; n_neighbors=39 scale=5.881846808835046\n",
      "n=100000; n_neighbors=39 scale=5.888056903729089\n",
      "n=300000; n_neighbors=44 scale=7.628979444258468\n",
      "n=300000; n_neighbors=44 scale=7.637030761835895\n",
      "n=300000; n_neighbors=44 scale=7.629037665912033\n",
      "n=300000; n_neighbors=44 scale=7.632611188682154\n",
      "n=700000; n_neighbors=49 scale=9.591791814980503\n",
      "n=700000; n_neighbors=49 scale=9.595917198206227\n",
      "n=700000; n_neighbors=49 scale=9.592841521612062\n",
      "n=700000; n_neighbors=49 scale=9.595976343557709\n",
      "n=10000; n_neighbors=27 scale=2.642951639664038\n",
      "n=10000; n_neighbors=27 scale=2.644893919200971\n",
      "n=10000; n_neighbors=27 scale=2.642551569234495\n",
      "n=10000; n_neighbors=27 scale=2.64699601151425\n",
      "n=30000; n_neighbors=33 scale=4.074755156933529\n",
      "n=30000; n_neighbors=33 scale=4.081013389530089\n",
      "n=30000; n_neighbors=33 scale=4.0766424658159455\n",
      "n=30000; n_neighbors=33 scale=4.07752015667964\n",
      "n=50000; n_neighbors=35 scale=4.642267038323039\n",
      "n=50000; n_neighbors=35 scale=4.641675990158831\n",
      "n=50000; n_neighbors=35 scale=4.640830282290425\n",
      "n=50000; n_neighbors=35 scale=4.6459970700430775\n",
      "n=100000; n_neighbors=39 scale=5.895382593534336\n",
      "n=100000; n_neighbors=39 scale=5.893740169373318\n",
      "n=100000; n_neighbors=39 scale=5.901300653322305\n",
      "n=100000; n_neighbors=39 scale=5.892028946613991\n",
      "n=300000; n_neighbors=44 scale=7.628143938858167\n",
      "n=300000; n_neighbors=44 scale=7.629289785644945\n",
      "n=300000; n_neighbors=44 scale=7.629080243757022\n",
      "n=300000; n_neighbors=44 scale=7.62585947416843\n",
      "n=700000; n_neighbors=49 scale=9.594403400799589\n",
      "n=700000; n_neighbors=49 scale=9.597050912338702\n",
      "n=700000; n_neighbors=49 scale=9.595305837314807\n",
      "n=700000; n_neighbors=49 scale=9.597893232920011\n",
      "n=10000; n_neighbors=27 scale=2.636538747547159\n",
      "n=10000; n_neighbors=27 scale=2.63888566727851\n",
      "n=10000; n_neighbors=27 scale=2.6374440716364607\n",
      "n=10000; n_neighbors=27 scale=2.629091138388765\n",
      "n=30000; n_neighbors=33 scale=4.14972352710708\n",
      "n=30000; n_neighbors=33 scale=4.15073067355983\n",
      "n=30000; n_neighbors=33 scale=4.151080714122633\n",
      "n=30000; n_neighbors=33 scale=4.146507682764744\n",
      "n=50000; n_neighbors=35 scale=4.655767234119812\n",
      "n=50000; n_neighbors=35 scale=4.655869015239652\n",
      "n=50000; n_neighbors=35 scale=4.657190542357345\n",
      "n=50000; n_neighbors=35 scale=4.650010883794089\n",
      "n=100000; n_neighbors=39 scale=5.922711334556089\n",
      "n=100000; n_neighbors=39 scale=5.923972770576332\n",
      "n=100000; n_neighbors=39 scale=5.922298004761824\n",
      "n=100000; n_neighbors=39 scale=5.912743329855358\n",
      "n=300000; n_neighbors=44 scale=7.632223554167228\n",
      "n=300000; n_neighbors=44 scale=7.631383546794584\n",
      "n=300000; n_neighbors=44 scale=7.633152076260304\n",
      "n=300000; n_neighbors=44 scale=7.626992500596728\n",
      "n=700000; n_neighbors=49 scale=9.594347729017109\n",
      "n=700000; n_neighbors=49 scale=9.595934886900714\n",
      "n=700000; n_neighbors=49 scale=9.595690453747448\n",
      "n=700000; n_neighbors=49 scale=9.592708683073894\n",
      "n=10000; n_neighbors=27 scale=2.65165375985476\n",
      "n=10000; n_neighbors=27 scale=2.649078556709583\n",
      "n=10000; n_neighbors=27 scale=2.65165375985476\n",
      "n=10000; n_neighbors=27 scale=2.6450825240384486\n",
      "n=30000; n_neighbors=33 scale=4.100392031752239\n",
      "n=30000; n_neighbors=33 scale=4.098849471628537\n",
      "n=30000; n_neighbors=33 scale=4.098568377780108\n",
      "n=30000; n_neighbors=33 scale=4.102091549619603\n",
      "n=50000; n_neighbors=35 scale=4.680684189945307\n",
      "n=50000; n_neighbors=35 scale=4.6816124213785475\n",
      "n=50000; n_neighbors=35 scale=4.68411614827226\n",
      "n=50000; n_neighbors=35 scale=4.689801064959131\n",
      "n=100000; n_neighbors=39 scale=5.887127157135055\n",
      "n=100000; n_neighbors=39 scale=5.88533557720225\n",
      "n=100000; n_neighbors=39 scale=5.888086862832155\n",
      "n=100000; n_neighbors=39 scale=5.889191292263918\n",
      "n=300000; n_neighbors=44 scale=7.623929589875159\n",
      "n=300000; n_neighbors=44 scale=7.624665369920164\n",
      "n=300000; n_neighbors=44 scale=7.6220840736273185\n",
      "n=300000; n_neighbors=44 scale=7.62262276761911\n",
      "n=700000; n_neighbors=49 scale=9.579962077125817\n",
      "n=700000; n_neighbors=49 scale=9.58114577562613\n",
      "n=700000; n_neighbors=49 scale=9.57889553119685\n",
      "n=700000; n_neighbors=49 scale=9.583601413416416\n",
      "n=10000; n_neighbors=27 scale=2.621409696062879\n",
      "n=10000; n_neighbors=27 scale=2.6212941726017416\n",
      "n=10000; n_neighbors=27 scale=2.621409696062879\n",
      "n=10000; n_neighbors=27 scale=2.630504902475054\n",
      "n=30000; n_neighbors=33 scale=4.129051964391103\n",
      "n=30000; n_neighbors=33 scale=4.130370318916623\n",
      "n=30000; n_neighbors=33 scale=4.127383561553504\n",
      "n=30000; n_neighbors=33 scale=4.134338352501256\n",
      "n=50000; n_neighbors=35 scale=4.66328644279723\n",
      "n=50000; n_neighbors=35 scale=4.663468714693707\n",
      "n=50000; n_neighbors=35 scale=4.6599863996657325\n",
      "n=50000; n_neighbors=35 scale=4.672677309105884\n",
      "n=100000; n_neighbors=39 scale=5.886945325663213\n",
      "n=100000; n_neighbors=39 scale=5.887599098231242\n",
      "n=100000; n_neighbors=39 scale=5.88522830503403\n",
      "n=100000; n_neighbors=39 scale=5.896422386687351\n",
      "n=300000; n_neighbors=44 scale=7.632233502246294\n",
      "n=300000; n_neighbors=44 scale=7.630588296505313\n",
      "n=300000; n_neighbors=44 scale=7.631189401880583\n",
      "n=300000; n_neighbors=44 scale=7.620806064565205\n",
      "n=700000; n_neighbors=49 scale=9.594900079584576\n",
      "n=700000; n_neighbors=49 scale=9.595806384416306\n",
      "n=700000; n_neighbors=49 scale=9.595485569624278\n",
      "n=700000; n_neighbors=49 scale=9.588708041361151\n",
      "n=10000; n_neighbors=27 scale=2.6904925965715076\n",
      "n=10000; n_neighbors=27 scale=2.69788815611345\n",
      "n=10000; n_neighbors=27 scale=2.6904925965715076\n",
      "n=10000; n_neighbors=27 scale=2.68238000261408\n",
      "n=30000; n_neighbors=33 scale=4.119318996978586\n",
      "n=30000; n_neighbors=33 scale=4.118923424299606\n",
      "n=30000; n_neighbors=33 scale=4.1194502245236\n",
      "n=30000; n_neighbors=33 scale=4.11208687624023\n",
      "n=50000; n_neighbors=35 scale=4.668739016458106\n",
      "n=50000; n_neighbors=35 scale=4.667714695590485\n",
      "n=50000; n_neighbors=35 scale=4.669312837875776\n",
      "n=50000; n_neighbors=35 scale=4.66251228023715\n",
      "n=100000; n_neighbors=39 scale=5.87962053978673\n",
      "n=100000; n_neighbors=39 scale=5.87950029396741\n",
      "n=100000; n_neighbors=39 scale=5.877486374333651\n",
      "n=100000; n_neighbors=39 scale=5.887195514348116\n",
      "n=300000; n_neighbors=44 scale=7.599378435979753\n",
      "n=300000; n_neighbors=44 scale=7.60357878365445\n",
      "n=300000; n_neighbors=44 scale=7.597361672848577\n",
      "n=300000; n_neighbors=44 scale=7.606730019643338\n",
      "n=700000; n_neighbors=49 scale=9.576867327467477\n",
      "n=700000; n_neighbors=49 scale=9.57969421762864\n",
      "n=700000; n_neighbors=49 scale=9.576113917969714\n",
      "n=700000; n_neighbors=49 scale=9.580699528386596\n",
      "n=10000; n_neighbors=27 scale=2.6406752711654673\n",
      "n=10000; n_neighbors=27 scale=2.646778043850074\n",
      "n=10000; n_neighbors=27 scale=2.6397318131411733\n",
      "n=10000; n_neighbors=27 scale=2.6325971761633955\n",
      "n=30000; n_neighbors=33 scale=4.106519094506849\n",
      "n=30000; n_neighbors=33 scale=4.105520796680635\n",
      "n=30000; n_neighbors=33 scale=4.103396588312104\n",
      "n=30000; n_neighbors=33 scale=4.111028189785616\n",
      "n=50000; n_neighbors=35 scale=4.679301531047534\n",
      "n=50000; n_neighbors=35 scale=4.678579226245773\n",
      "n=50000; n_neighbors=35 scale=4.676259323197688\n",
      "n=50000; n_neighbors=35 scale=4.686243120842731\n",
      "n=100000; n_neighbors=39 scale=5.87584589100004\n",
      "n=100000; n_neighbors=39 scale=5.873243374513896\n",
      "n=100000; n_neighbors=39 scale=5.868771168309108\n",
      "n=100000; n_neighbors=39 scale=5.88001598353175\n",
      "n=300000; n_neighbors=44 scale=7.6226337160566455\n",
      "n=300000; n_neighbors=44 scale=7.626249283037648\n",
      "n=300000; n_neighbors=44 scale=7.621682327640723\n",
      "n=300000; n_neighbors=44 scale=7.626584039542863\n",
      "n=700000; n_neighbors=49 scale=9.582963629399654\n",
      "n=700000; n_neighbors=49 scale=9.585869081850603\n",
      "n=700000; n_neighbors=49 scale=9.5831358056559\n",
      "n=700000; n_neighbors=49 scale=9.581752099990737\n",
      "n=10000; n_neighbors=27 scale=2.669511438776584\n",
      "n=10000; n_neighbors=27 scale=2.6718274462553113\n",
      "n=10000; n_neighbors=27 scale=2.669904743686085\n",
      "n=10000; n_neighbors=27 scale=2.667354340325283\n",
      "n=30000; n_neighbors=33 scale=4.115298190251446\n",
      "n=30000; n_neighbors=33 scale=4.115546471525703\n",
      "n=30000; n_neighbors=33 scale=4.112178926850175\n",
      "n=30000; n_neighbors=33 scale=4.108817537690493\n",
      "n=50000; n_neighbors=35 scale=4.658582011197138\n",
      "n=50000; n_neighbors=35 scale=4.657093828547255\n",
      "n=50000; n_neighbors=35 scale=4.657335339382946\n",
      "n=50000; n_neighbors=35 scale=4.665076339733272\n",
      "n=100000; n_neighbors=39 scale=5.899299880941413\n",
      "n=100000; n_neighbors=39 scale=5.900146684566734\n",
      "n=100000; n_neighbors=39 scale=5.897904469433465\n",
      "n=100000; n_neighbors=39 scale=5.90512816568073\n",
      "n=300000; n_neighbors=44 scale=7.6487047255453895\n",
      "n=300000; n_neighbors=44 scale=7.648855471488452\n",
      "n=300000; n_neighbors=44 scale=7.646108287317345\n",
      "n=300000; n_neighbors=44 scale=7.648945130103141\n",
      "n=700000; n_neighbors=49 scale=9.590715391569155\n",
      "n=700000; n_neighbors=49 scale=9.589956927633782\n",
      "n=700000; n_neighbors=49 scale=9.590297908115446\n",
      "n=700000; n_neighbors=49 scale=9.589347575816177\n",
      "n=10000; n_neighbors=27 scale=2.594136994800272\n",
      "n=10000; n_neighbors=27 scale=2.595133519522607\n",
      "n=10000; n_neighbors=27 scale=2.5941035016486502\n",
      "n=10000; n_neighbors=27 scale=2.5890764392157375\n",
      "n=30000; n_neighbors=33 scale=4.126692412986163\n",
      "n=30000; n_neighbors=33 scale=4.125209751328821\n",
      "n=30000; n_neighbors=33 scale=4.122022445568865\n",
      "n=30000; n_neighbors=33 scale=4.113727284825152\n",
      "n=50000; n_neighbors=35 scale=4.68347432953478\n",
      "n=50000; n_neighbors=35 scale=4.681439664889142\n",
      "n=50000; n_neighbors=35 scale=4.68393987632895\n",
      "n=50000; n_neighbors=35 scale=4.679467787003686\n",
      "n=100000; n_neighbors=39 scale=5.898755960287266\n",
      "n=100000; n_neighbors=39 scale=5.898453511005368\n",
      "n=100000; n_neighbors=39 scale=5.9009170693885675\n",
      "n=100000; n_neighbors=39 scale=5.894843633967145\n",
      "n=300000; n_neighbors=44 scale=7.639224041641351\n",
      "n=300000; n_neighbors=44 scale=7.633436098958954\n",
      "n=300000; n_neighbors=44 scale=7.640439931369739\n",
      "n=300000; n_neighbors=44 scale=7.634822960101955\n",
      "n=700000; n_neighbors=49 scale=9.603588899592115\n",
      "n=700000; n_neighbors=49 scale=9.600948478582684\n",
      "n=700000; n_neighbors=49 scale=9.602839051829408\n",
      "n=700000; n_neighbors=49 scale=9.602235682632921\n"
     ]
    }
   ],
   "source": [
    "experiments = storage.load_results(name=\"one_circle_joined\", folder=\"../results\")\n",
    "compute_errors(experiments)"
   ]
  },
  {
   "cell_type": "markdown",
   "metadata": {},
   "source": [
    "## Plotting"
   ]
  },
  {
   "cell_type": "markdown",
   "metadata": {},
   "source": [
    "### solution vs analytic"
   ]
  },
  {
   "cell_type": "code",
   "execution_count": 57,
   "metadata": {},
   "outputs": [],
   "source": [
    "bump_width = \"dirac\"\n",
    "n = 700000\n",
    "ex_plot = list(\n",
    "    filter(lambda x: \n",
    "        x[\"n\"] == n \n",
    "        and x[\"bump\"] == bump_width\n",
    "        and \"eps\" in x\n",
    "        and np.isclose(x[\"eps\"], 0.00998789),\n",
    "        experiments,\n",
    "    )\n",
    ")[0]\n",
    "\n",
    "solution_plot = ex_plot[\"solution\"]\n",
    "sample = solution_plot.sample(NUM_PLOTTING_POINTS, random_state=1)\n",
    "\n",
    "xy = sample[[\"x\", \"y\"]].to_numpy()\n",
    "dist = cdist(xy, xy, metric=\"euclidean\")"
   ]
  },
  {
   "cell_type": "code",
   "execution_count": 58,
   "metadata": {},
   "outputs": [
    {
     "data": {
      "image/png": "[encoded data removed]",
      "text/plain": [
       "<Figure size 340.157x170.079 with 2 Axes>"
      ]
     },
     "metadata": {
      "needs_background": "light"
     },
     "output_type": "display_data"
    }
   ],
   "source": [
    "sns.set_context(\"paper\", font_scale=0.75)\n",
    "fig = plt.figure(figsize=(0.75*fig_width, 0.75*0.5*fig_width))\n",
    "ax_solution = fig.add_subplot(1, 2, 1, projection=\"3d\")\n",
    "plotting.plot_graph_function_scatter(\n",
    "    ax_solution, xy, sample[\"z\"].to_numpy(), dist=dist, max_dist=0.1,\n",
    ")\n",
    "ax_solution.set_zlim(-0.5, 0.5)\n",
    "\n",
    "z1 = ex_plot[\"label_locations\"][0]\n",
    "z2 = ex_plot[\"label_locations\"][1]\n",
    "analytic = compute_analytic_solution(xy, z1, z2)\n",
    "ax_analytic = fig.add_subplot(1, 2, 2, projection=\"3d\")\n",
    "plotting.plot_graph_function_with_triangulation(\n",
    "    ax_analytic, xy, analytic, dist=dist, max_dist=0.1,\n",
    ")\n",
    "ax_analytic.set_zlim(-0.5, 0.5)\n",
    "# fig_results.suptitle(f\"Discrete solution [n={n}] vs analytic solution\")\n",
    "fig.tight_layout()\n",
    "\n",
    "if SAVE_PLOTS:\n",
    "    fig.savefig(f\"../plots/one_circle_demo.png\", bbox_inches=\"tight\", dpi=300)\n",
    "    fig.savefig(f\"../plots/one_circle_demo.pdf\", bbox_inches=\"tight\")"
   ]
  },
  {
   "cell_type": "markdown",
   "metadata": {},
   "source": [
    "### Error for Dirac RHS"
   ]
  },
  {
   "cell_type": "code",
   "execution_count": 59,
   "metadata": {},
   "outputs": [],
   "source": [
    "selected_experiments = {\n",
    "    kernel: list(\n",
    "        filter(\n",
    "            lambda x: x[\"kernel\"] == kernel\n",
    "            and x[\"bump\"] == \"dirac\"\n",
    "            and \"eps\" in x\n",
    "            and (\n",
    "                x[\"n\"] != 100000 or np.isclose(x[\"eps\"], 0.02326135)\n",
    "            ),  # Keep only eps = np.log(n) ** (1 / 15) * conn_radius\n",
    "            experiments,\n",
    "        )\n",
    "    )\n",
    "    for kernel in [\"gaussian\"]\n",
    "}\n",
    "\n",
    "n_error = sorted(list(set([e[\"n\"] for e in list(selected_experiments.values())[0]])))\n",
    "error = {kernel: {} for kernel in selected_experiments.keys()}\n",
    "for kernel, experiments_with_kernel in selected_experiments.items():\n",
    "    for n in n_error:\n",
    "        ex = list(filter(lambda x: x[\"n\"] == n, experiments_with_kernel))\n",
    "        error[kernel][n] = {}\n",
    "        error[kernel][n][\"mean\"] = np.mean([e[\"error_L1\"] for e in ex])\n",
    "        error[kernel][n][\"max\"] = np.max([e[\"error_L1\"] for e in ex])\n",
    "        error[kernel][n][\"min\"] = np.min([e[\"error_L1\"] for e in ex])"
   ]
  },
  {
   "cell_type": "code",
   "execution_count": 60,
   "metadata": {},
   "outputs": [
    {
     "name": "stderr",
     "output_type": "stream",
     "text": [
      "/home/max/Dokumente/Studium/Masterarbeit/code/poisson_learning/examples/plotting.py:139: RuntimeWarning: overflow encountered in power\n",
      "  return a * (X ** (-n))\n",
      "2022-10-04 20:43:56 INFO:plotting   Fitted parameters: [0.11886249 0.1847028 ]\n"
     ]
    },
    {
     "data": {
      "image/png": "[encoded data removed]",
      "text/plain": [
       "<Figure size 453.543x181.417 with 1 Axes>"
      ]
     },
     "metadata": {
      "needs_background": "light"
     },
     "output_type": "display_data"
    }
   ],
   "source": [
    "sns.set_context(\"paper\", font_scale=4/3)\n",
    "\n",
    "fig, ax = plt.subplots(1, 1, figsize=(fig_width, 0.4*fig_width))\n",
    "plotting.error_plot(error, ax, fit=\"polynomial\", c=\"black\")\n",
    "# ax_error.set_title(f\"L1 Error compared with RHS {bump_width} to analytic solution\")\n",
    "\n",
    "ax.set_xlabel(r\"$n$\")\n",
    "ax.set_ylabel(r\"$\\lVert u_n - u \\rVert_{L^1 \\left(B_1 \\right)}$\")\n",
    "ax.legend()\n",
    "ax.set_ylim(0.0, None)\n",
    "\n",
    "fig.tight_layout()\n",
    "if SAVE_PLOTS:\n",
    "    fig.savefig(f\"../plots/one_circle_dirac_n.pdf\", bbox_inches=\"tight\")"
   ]
  },
  {
   "cell_type": "markdown",
   "metadata": {},
   "source": [
    "### Error for Dirac RHS with KNN graph"
   ]
  },
  {
   "cell_type": "code",
   "execution_count": 61,
   "metadata": {},
   "outputs": [],
   "source": [
    "selected_experiments = {\n",
    "    kernel: list(\n",
    "        filter(\n",
    "            lambda x: x[\"kernel\"] == kernel\n",
    "            and x[\"bump\"] == \"dirac\"\n",
    "            and \"n_neighbors\" in x,\n",
    "            experiments,\n",
    "        )\n",
    "    )\n",
    "    for kernel in [\"gaussian\"]\n",
    "}\n",
    "\n",
    "n_error = sorted(list(set([e[\"n\"] for e in list(selected_experiments.values())[0]])))\n",
    "error = {kernel: {} for kernel in selected_experiments.keys()}\n",
    "for kernel, experiments_with_kernel in selected_experiments.items():\n",
    "    for n in n_error:\n",
    "        ex = list(filter(lambda x: x[\"n\"] == n, experiments_with_kernel))\n",
    "        if n == 100000:\n",
    "            v = ex\n",
    "        error[kernel][n] = {}\n",
    "        error[kernel][n][\"mean\"] = np.mean([e[\"error_L1\"] for e in ex])\n",
    "        error[kernel][n][\"max\"] = np.max([e[\"error_L1\"] for e in ex])\n",
    "        error[kernel][n][\"min\"] = np.min([e[\"error_L1\"] for e in ex])\n",
    "        error[kernel][n][\"size\"] = len([e[\"error_L1\"] for e in ex])"
   ]
  },
  {
   "cell_type": "code",
   "execution_count": 62,
   "metadata": {},
   "outputs": [
    {
     "name": "stderr",
     "output_type": "stream",
     "text": [
      "2022-10-04 20:44:08 INFO:plotting   Fitted parameters: [0.42688105 0.52734022]\n"
     ]
    },
    {
     "data": {
      "image/png": "[encoded data removed]",
      "text/plain": [
       "<Figure size 453.543x181.417 with 1 Axes>"
      ]
     },
     "metadata": {
      "needs_background": "light"
     },
     "output_type": "display_data"
    }
   ],
   "source": [
    "fig, ax = plt.subplots(1, 1, figsize=(fig_width, 0.4*fig_width))\n",
    "plotting.error_plot(error, ax, fit=\"polynomial\", c=\"black\")\n",
    "# ax_error.set_title(f\"L1 Error compared with RHS {bump_width} to analytic solution\")\n",
    "ax.legend()\n",
    "ax.set_xlabel(r\"$n$\")\n",
    "ax.set_ylabel(r\"$\\lVert u_n - u \\rVert_{L^1 \\left(B_1 \\right)}$\")\n",
    "ax.set_ylim(0.0, None)\n",
    "\n",
    "fig.tight_layout()\n",
    "if SAVE_PLOTS:\n",
    "    fig.savefig(f\"../plots/one_circle_dirac_n_knn.pdf\", bbox_inches=\"tight\")"
   ]
  },
  {
   "cell_type": "markdown",
   "metadata": {},
   "source": [
    "### Convergence of bump RHS"
   ]
  },
  {
   "cell_type": "code",
   "execution_count": 67,
   "metadata": {},
   "outputs": [],
   "source": [
    "selected_experiments = {\n",
    "    f\"bump={bump}\": list(\n",
    "        filter(lambda x:\n",
    "            x[\"bump\"] == bump\n",
    "            and x[\"kernel\"] == \"gaussian\"\n",
    "            and \"eps\" in x,\n",
    "            experiments,\n",
    "        )\n",
    "    )\n",
    "    for bump in [0.02, 0.01, 0.1]\n",
    "}\n",
    "\n",
    "n_error = sorted(list(set([e[\"n\"] for e in list(selected_experiments.values())[0]])))\n",
    "error = {bump: {} for bump in selected_experiments.keys()}\n",
    "for bump, experiments_with_bump in selected_experiments.items():\n",
    "    for n in n_error:\n",
    "        ex = list(filter(lambda x: x[\"n\"] == n, experiments_with_bump))\n",
    "        if ex:\n",
    "            error[bump][n] = {}\n",
    "            error_list = [e[\"error_L1_dirac\"] for e in ex if e[\"error_L1_dirac\"] > 0]\n",
    "            error[bump][n][\"mean\"] = np.mean(error_list) if error_list else np.nan\n",
    "            error[bump][n][\"max\"] = np.max(error_list) if error_list else np.nan\n",
    "            error[bump][n][\"min\"] = np.min(error_list) if error_list else np.nan"
   ]
  },
  {
   "cell_type": "code",
   "execution_count": 73,
   "metadata": {},
   "outputs": [
    {
     "data": {
      "image/png": "[encoded data removed]",
      "text/plain": [
       "<Figure size 453.543x226.772 with 1 Axes>"
      ]
     },
     "metadata": {
      "needs_background": "light"
     },
     "output_type": "display_data"
    }
   ],
   "source": [
    "fig, ax = plt.subplots(1, 1, figsize=(fig_width, 0.5*fig_width))\n",
    "ax.set_prop_cycle(plotting.line_cycler)\n",
    "\n",
    "for i, (bump, e) in enumerate(error.items()):\n",
    "    plotting.error_plot({bump: e}, ax, fit=None, label=bump)\n",
    "\n",
    "    # ax.set_xscale(\"log\")\n",
    "    # ax.set_title(\"L1 error of solution with dirac RHS\")\n",
    "ax.legend(ncol=3, loc='lower center')\n",
    "ax.set_yscale(\"log\")\n",
    "ax.set_xlabel(r\"$n$\")\n",
    "ax.set_ylabel(r\"$\\lVert u_n - u_n^\\delta \\rVert_{L^1 \\left((0, 1) \\right)}$\")\n",
    "\n",
    "#ax.set_ylim(0, 2.5e-3)\n",
    "fig.tight_layout()\n",
    "if SAVE_PLOTS:\n",
    "    fig.savefig(f\"../plots/one_circle_dirac_bump_approximation.pdf\", bbox_inches=\"tight\")"
   ]
  },
  {
   "cell_type": "markdown",
   "metadata": {},
   "source": [
    "### Convergence for different choices of epsilon"
   ]
  },
  {
   "cell_type": "code",
   "execution_count": 65,
   "metadata": {},
   "outputs": [],
   "source": [
    "n = 100000\n",
    "selected_experiments = {\n",
    "    kernel: list(\n",
    "        filter(\n",
    "            lambda x: x[\"kernel\"] == kernel\n",
    "            and x[\"n\"] == n\n",
    "            and x[\"bump\"] == \"dirac\"\n",
    "            and \"eps\" in x,\n",
    "            experiments,\n",
    "        )\n",
    "    )\n",
    "    for kernel in [\"gaussian\"]\n",
    "}\n",
    "eps_error = list(set([e[\"eps\"] for e in list(selected_experiments.values())[0]]))\n",
    "eps_error = sorted(eps_error)\n",
    "error = {kernel: {} for kernel in selected_experiments.keys()}\n",
    "n_connected_component = {kernel: {} for kernel in selected_experiments.keys()}\n",
    "for kernel, experiments_with_kernel in selected_experiments.items():\n",
    "    for eps in eps_error:\n",
    "        ex = list(filter(lambda x: np.isclose(x[\"eps\"], eps), experiments_with_kernel))\n",
    "        error[kernel][eps] = {}\n",
    "        error[kernel][eps][\"mean\"] = np.mean([e[\"error_L1\"] for e in ex])\n",
    "        error[kernel][eps][\"max\"] = np.max([e[\"error_L1\"] for e in ex])\n",
    "        error[kernel][eps][\"min\"] = np.min([e[\"error_L1\"] for e in ex])\n",
    "\n",
    "        n_connected_component[kernel][eps] = {}\n",
    "        n_connected_component[kernel][eps][\"mean\"] = np.mean([e[\"solution\"].shape[0] for e in ex])\n",
    "        n_connected_component[kernel][eps][\"max\"] = np.max([e[\"solution\"].shape[0] for e in ex])\n",
    "        n_connected_component[kernel][eps][\"min\"] = np.min([e[\"solution\"].shape[0] for e in ex])"
   ]
  },
  {
   "cell_type": "code",
   "execution_count": 66,
   "metadata": {},
   "outputs": [
    {
     "data": {
      "image/png": "[encoded data removed]",
      "text/plain": [
       "<Figure size 453.543x226.772 with 2 Axes>"
      ]
     },
     "metadata": {
      "needs_background": "light"
     },
     "output_type": "display_data"
    }
   ],
   "source": [
    "for kernel, e in error.items():\n",
    "    fig, ax = plt.subplots(1, 1, figsize=(fig_width, 0.5*fig_width))\n",
    "    plotting.error_plot({kernel: e}, ax, c=\"black\")#, fit=\"polynomial\")\n",
    "\n",
    "    #ax.legend()\n",
    "    ax.set_xlabel(fr\"$h_{ {n} }$\")\n",
    "    ax.set_ylabel(fr\"$\\lVert u_{ {n} } - u \\rVert_1$\")\n",
    "\n",
    "    # Draw connectivity radius\n",
    "    conn_radius = np.log(n) ** (3 / 4) / np.sqrt(n)\n",
    "    ax.vlines(conn_radius, 0.0, 1.0, color=\"red\")\n",
    "    ax.set_ylim(0.0, 0.55)\n",
    "    #ax.set_xscale(\"log\")\n",
    "\n",
    "    ax_n = ax.twinx()\n",
    "    plotting.error_plot({kernel: n_connected_component[kernel]}, ax_n, c=\"blue\")#, fit=\"polynomial\")\n",
    "    ax_n.set_ylabel(r\"nodes in largest conn. comp.\")\n",
    "    ax_n.grid(None)\n",
    "    fig.tight_layout()\n",
    "    if SAVE_PLOTS:\n",
    "        fig.savefig(f\"../plots/one_circle_convergence_eps.pdf\", bbox_inches=\"tight\")"
   ]
  },
  {
   "cell_type": "code",
   "execution_count": null,
   "metadata": {},
   "outputs": [],
   "source": []
  }
 ],
 "metadata": {
  "kernelspec": {
   "display_name": "Python 3.9.7 ('thesis')",
   "language": "python",
   "name": "python3"
  },
  "language_info": {
   "codemirror_mode": {
    "name": "ipython",
    "version": 3
   },
   "file_extension": ".py",
   "mimetype": "text/x-python",
   "name": "python",
   "nbconvert_exporter": "python",
   "pygments_lexer": "ipython3",
   "version": "3.9.7"
  },
  "orig_nbformat": 4,
  "vscode": {
   "interpreter": {
    "hash": "0309fd4d8093f233da82b79409fbfbf31049f6fad33a75d9435ce0e16e3f1f61"
   }
  }
 },
 "nbformat": 4,
 "nbformat_minor": 2
}
